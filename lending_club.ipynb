{
  "nbformat": 4,
  "nbformat_minor": 0,
  "metadata": {
    "colab": {
      "name": "lending_club.ipynb",
      "provenance": [],
      "toc_visible": true,
      "authorship_tag": "ABX9TyNfrnohFu6bx19XXF8wVwSC",
      "include_colab_link": true
    },
    "kernelspec": {
      "name": "python3",
      "display_name": "Python 3"
    },
    "language_info": {
      "name": "python"
    }
  },
  "cells": [
    {
      "cell_type": "markdown",
      "metadata": {
        "id": "view-in-github",
        "colab_type": "text"
      },
      "source": [
        "<a href=\"https://colab.research.google.com/github/Henrislim/machine-learning-projects/blob/main/lending_club.ipynb\" target=\"_parent\"><img src=\"https://colab.research.google.com/assets/colab-badge.svg\" alt=\"Open In Colab\"/></a>"
      ]
    },
    {
      "cell_type": "markdown",
      "metadata": {
        "id": "fgQehyO4OhBU"
      },
      "source": [
        "# Lending Club Loan Prediction"
      ]
    },
    {
      "cell_type": "markdown",
      "metadata": {
        "id": "c6CsAT0ZO8nn"
      },
      "source": [
        "![image.png](data:image/png;base64,iVBORw0KGgoAAAANSUhEUgAAAOEAAADhCAYAAAA+s9J6AAAUzElEQVR4Ae2cS4glSRWGa+tCmJ0IwkgtCouyu0YRRES0UWEG26KmqotRUVFQGEVBFGHciI+VOktlXIjoQheCuhAEERFEHdERREeUEcUXIoIvdKFurnyH/HPOjcq8t25XVUdH1B+QndkZkREn/nO+iMjI2721cLICVqCqAltVW3fjVsAKLAyhg8AKVFbAEFZ2gJu3AobQMWAFKitgCCs7wM1bAUPoGLAClRUwhJUd4OatgCF0DFiBygoYwsoOcPNWwBA6BqxAZQUMYWUHuHkrYAgdA1agsgKGsLID3LwVMISOAStQWQFDWNkBbt4KGELHgBWorIAhrOwAN28FDKFjwApUVsAQVnaAm7cChtAxYAUqK2AIKzvAzVsBQ+gYsAKVFTCElR3g5q2AIXQMWIHKChjCyg5w81bAEDoGrEBlBQxhZQe4eStgCB0DVqCyAoawsgPcvBUwhI4BK1BZAUNY2QFu3goYQseAFaisgCGs7AA3bwUMoWPAClRWwBBWdoCbtwKG0DFgBSorYAgrO8DNWwFD6BiwApUVMISVHeDmrYAhdAxYgcoKGMLKDnDzVsAQOgasQGUFDGFlB7h5K2AIHQNWoLIChrCyA9y8FTCEjgErUFkBQ1jZAW7eChhCx4AVqKyAIazsADdvBQyhY8AKVFbAEFZ2gJu3AobQMWAFKitgCCs7wM1bAUPoGLAClRUwhJUd4OatgCF0DFiBygoYwsoOcPNWwBA6BqxAZQUMYWUHuHkrYAgdA1agsgKGsLID3LwVMISOAStQWQFDWNkBbt4KGELHgBWorIAhrOwAN28FDKFjwApUVsAQVnaAm7cChtAxYAUqK2AIKzvAzVsBQ+gYsAKVFTCElR3g5q2AIXQMWIHKChjCyg5w81bAEDoGrEBlBQxhZQe4eStgCB0DVqCyAoawsgPcvBUwhI4BK1BZAUNY2QFu3goYQseAFaisgCGs7AA3bwUMoWPAClRWwBBWdoCbtwKG0DFgBSorYAgrO8DNWwFD6BiwApUVMISVHeDmrYAhdAxYgcoKGMLKDnDzVsAQOgasQGUFDGFlB7h5K2AIHQNWoLIChrCyA9y8FTCEjgErUFkBQ1jZAW7eChhCx4AVqKyAIazsADd/WoHf/vHPi1/95vdx/P2f/zpdoLM7G0H42y9+bvHzj39k8eSHH4nzU598dJRD95T/p29+PfL+8Ysnx/LK++evn4q833/1S1EP95U3Vjhc4Iz3f/RTiw8++pnx+No3vlMW6/rvBGLWgOvHn/hp9Pk///3f4qfve3jxk3e+eTzjp9bSt7/348Xb3/+xxbNf8sbF1s7h0sE98igzl9CIGPnEY19YfPlr35ortvF9dEZvjid/+euNnz/LAxtB+LMPvGfxgxvXFz945X1xPPGmB6MNAkH3OD/+st3Fbz776cj7y48eX3z/xc8d87kGTBIQUzY/GxnpD0TYuvfm4hkvfCgOHITQVykxM2w96/6nNdg+GAMN7X/42peFhnG+cT10bUUfBtmXPPjugO6eF70+IMTXW/sncXDNfQ58f+N1712gR5moB40oAzAXlRjwiT+OVYPAedrbCEJmOxytI0OoexEIr7xvodEYCAFN+VxnCAFQeZzLFBDuHi2e89I3xYFTrhqEjPJb2wejBlt7x0sQPvHQA6OG6JlXKKWed9PfCWqgEXz063mveltA9Njnv7LgAKgXvOYdC/KYEQVkCWJAuHMYAxUz4kWlgHDveLG1e3R3QMhMOM5cN64vMoRxf5glme3yTPi9Fz57nO24zhDm+gigMhnCxWIVhOjF4CX90b4FCFnaASCDK2BxXjXTkEcZgbj9ircuhcqVgZD3PN7j8iEl8j2uBdq///C7pfLMkNwjMUuWz6k+nQ3hegjxSz6kvTS8284soZndAIqD5SgDzbrE7DfOmtduLa2IrgyE60S6jPw7ASFBwXG3pnUz4d1q95xdn//S12N5x8zG60W5tJx7jvtaHvIs741KVwZCRlhmr3xIhLnzf/7216XyPMs9ErukuS6uy3RZEFIv7xuMwlrm8D7yhnd9ZEGQzI3M7LzxTqp3Fu3EUZ77bBxQD8fNt3wgys3Vpb6ST32U5zmWWlznuufeCalDtuicl3Vc6z5n+kZi0OHvapN2sZ0+rLMXaHjvojy28uxD7/hQAELd0kLtUmcGTbPg1rVbYUMYtMEfsWnDe9o9rx53iecg5D5LX45VAy15KsczSoI+vxNSlvtoQAxxxlfrdFOd5XmjjRm2wmOn88b1eAf50UMPlPWd+jtgxTsh74s3ri+++/xnjktV3l1yfeSX6aIhRCgCj/cRRmEtiXRmucMmAGdBkG0CUhwSgbBzuHj4kUcjwHieoFI9nKOua7eiHfoxlbiPHTyrpdb47M5h2EoA6/0pZoBiY0bthE3bB0vLNAIEgCNv9yhgQQNtduQ2ow/sSu4dz76foYn6f6qvw85k2MtO5bDDya4lAU7ijD3R1t7xEpxT+kzdY2DBDgYUATMHIYND7G7e8+qVbaHJ1tbLoyzxoTRCuHccwOMvBh5pQB/Df3vHcdYgp+fPct4IQnZH826mNmZWNQSEbBpoB5RrvbMAYa7vsndHCQ4FOMGsQ/c453s4j9E8J75XEbiUozwQMptynQ/Vo3IEXjlSxgBz7814LpfP1ziYoMi2AYkGCEZlgkL5BAUzjxLX1CE7CEoO7q20996bY4CrrgjIe2+OGmU7dc1gwuwgjbjPACII0VODVQ52tXG75zkI5S80y7Nx2U5AuH0QdjPQKglC+kO/xoHl2q0YyBjM0FJ60tesv+pZdd4IwvhOOHxSAJ7WIGTZlINDwhEMBCb5CpAxqLYPxiUPQsqpylcg42QcQl1Rz/7JUrBSb3YO8NC+6uFMXdQjG7lW/bkc928HQrWhdrBztPfarSVbsI2gU4ogHeyRLaqHM/dkr+xXOWYNQShAqZ9Z+qLShUA4fC4hFpQEIX2hX/SFPmSg0SZWHIM+m35T3AhCftUCeDpYnq5LzITMcHqGa82EfMZgSas8zmWK2eICvhOyTCBIxsDYP4lZrJydVE6BxZmZTqmEkPoIqPweRtlwSgKReniHUtKMIHvIZ0ajHmzioO96f1I5zueFkAGB4Mppzh6VYQBhFpAd2AvE2LjW3gQh0Ecw3+b7oOwpz3cCQnQrV0bZDvm89HUuM3W9EYRTFVz2vYuCMAczImWwyj6UAclSUiN5CSFAlAGt+mgnBy3XSgRwzs+zhcpwJsApt1T2HDMhgTT33pI1Ctiv3RpNYaBZsmH/ZGk2UEFmiFUz4QjhCt1U1ybny4aQvudBdMq27CuWpXm2nCqve1cCQsQAJAFBIGo5JyHymaUio76CLo+AGULyyaP8VFLA0a7qohzOYskiewha6p1LMTunWeg8MyGw0/5U0lJR9tIOqdRv3VKSGYEy6l8eYKTJqsFryrZ19y4bQuJhbvDKtrFHEDP9BoPMRhDqZ2v8TIqDHw2TCELd00+o8s/W4v1xeKZcjsZSdcjj2TJdxExY1oFIBBxLrLlDgciZgKI8qYRw1Ywqh6gulpuk0h5AnptNKR8QDL8uoa7bhTAPBGFI8ccpeIbvcCyRaZO21X65/M5VnepfWo7yvhWDV5rN87O3e33pEO4eLe0NzNnJ4I4/gTbvAcyV5/7GEObdTL3DASEw6eBTQ/7ZWu3d0fxyrUCK0Upb6MW5XHrlmaqEcNUSpYSQtkmlPXmmmHIW+i7NLCmAydtkd5Rl8FzKEAoUykZgZQgTVFN1CQhpnfsnTTYJ0qk2yntqE53oh5L8xSCyankYq5MVGzMsL2ljXZJvseNSIGR3VKDFDJb+FUW+D6gZQqBUfo1PFGUQxWhegEdQzB47h7F7igPkVOogUC8EwrSFP+VkQNMsFrbfAQilEfZodOde3N89WhmQAiKX1zs1gYnOeWCb6vOqewQ6ftAPKyirNi8TwlUQy16tGi4VQj6uAxKHPtYTJLrHmY/zGUI+0Cu//FhPWeVxLlO5tNmkc6pLo5OCggBg84U1/lkP6iCdB0ItR0t7mCno51xCXwJX9p9nOXo7M+Epe1d8zKcPAEefRnvTzBlBunsUgwp60LdNE0vaGDB3Dsf3tAuBcPhOOPWJYqOZcFiOrtpJzX3eaDnKD6/5vKBD/ziXCnVPZ/00jbPuUZ5rCZ/rU142juuLgDDqyO9Ua0by0ob89/NASFCOfcr2rNixpHwEdS5/h2fCU+2ved+J3eU8aCQIWfYxkKIFoK56t8y66zqWjcM3TTa3tERcC+Hu0crlqPrIAD31sZ6B7yy2qu+U18At2+fOG0E4V8ll3r8ICLXe15KOUXTdeh2n4FgOrqmDdB4INROGPWm3dt2ylk0hBW4E7x2AEJsIJFLMxGk3lzwOaRKFhj8ou+7zi/qzrt+5Xl1rOcuzeVNsLYTXbq2EUDvQ1Ds1E6J/fteUPeWZ1xNAvrRPFPyzI5aZOrQDiiG6x5mfo+nH2Mxw/F35XOufMvHPb3IeZcpUQkgHebnnPiPTWQ6CBWF5VkskRAWuqYTYjLLa5eKHwhoFzwOhZkLa1Fa97KGtqS1w2s1LuzsFYbSzfzKuWnK/yUNL+pDfk7gu+xX1pJmQvgsYAp5+nyW4eS5mq2GZyycn+STXWcIC8AHFmlkXeLCHslMzIXnrls/Rr+EXT6v2CrA3p41mQj5R8N7GxgubLXl3NO4N/+0FZQQUMMaPtIe82X/UO+Rn47guIVQAEJhnOoZf2kc9xWiuGZE8HMwZwAkM2uFAfD5iawmdg5G8VWJrJ1D1aCYc+5XsoQztUj/LGA4CCBtpR/ZEuTs1E6aP9QFAYS92YTMzEge2EsSn7C0gpP8xowmoveMAcWpmVTwAHPVGm/snoZPyOAvsEkItD7ELbadSlBlsof6pmTB03z8ZP1VN1aMBiFnwrEtR6tkYwjN9oij+e4uL3B3NwXiWa0AFLlLMcDuHS0GC00aY0+82qTscvne8NGOeB0LqzKkEnvwYtXmxT/+qguUdh/p7JzZmaAuoNPhgd4Az/AsI2SIwdOYZgpi/qwz6Tq060JK80Hn/JGYafARw+IyDnVnqy+UAPtuFbXMQxv1h8MA2raK4Pw66O4ehLxqj/xyEYefeceRjIzM/B9fYRCxx5Oezv+euN4ewxn/0NIAjR29yZlQShIgQo176f00UKOVZo3p+lucJHITGBhy2bibMZWmjTAqwsn3+Hk4f7FeAxL3do/EXPwQjMyy2RF7xQ/H8DkWZPBuXtsQgNcy8aqcsI/3QhzL5QGuWcnnZSD/mIKRuDYyyH70YZHgmjmEwIp8lKPWXAFJPwDb8ky3qzClWFMPGVtRD/TqGAQ+bWfFoENHzzGhhx7AxE/3hcxbP67PWMHgzcFLHqhld9ebzRhDyTsg7nA4tORFF93TmfY/EOyE//NZ9rst3QuVxLhMQ0HE6dzsHz5Yg4bCYhZKjETAO/ru94T1lSkyeAwjZwhJkLpVleWYqRWDj1KHtsGP7INrQDKL2OAMSMwQJ7XMetgGeEtfZXkbsuUTw5rK0MxfwlKUu9OVgMNESLCDMu7lrvoNSHrgyeBHg+GTQhcGOGWcu4VMGBOwvIeSZ0Jj60Fh+3z4Iu/Vei448X74T0j/q1syHLQwIYRt1DvXR7pReczbr/kYQ6qFezkCGY9kQwUkENsBOwXfZfc62YIfgu+x2z1v/VNChKQEqQAl8IFmXsgb4A78AtiBZ9/y6fGxFV+zjOE+91IOfsJG6zhMzVxrCdU5z/tMKAFE+VgUwMwLLSkHI9XmC9Gkr+rwyhH369cJ7Ff+xLssuloecn3X/5OwGqBlAlnGr3psv3NAGKzSEDTqthsn6XKLZDbh4Z2TWY1nGoTLkqRxLUfKc5hUwhPPaOCcpwHKSDSN2FwUYsMVu5rCplfMoQ/lVG1ep+it9aQivtPs36zzvgdoZBD4gzLMe1/EJgK377YOVH7Y3a7nv0oawb/9eSu/YQWYZCpDMeAKS5SmfKtjZXLVxcylGNVypIWzYeXeL6VOfKe4W21qwwxC24CXb2LUChrBr97pzLShgCFvwkm3sWgFD2LV73bkWFDCELXjJNnatgCHs2r3uXAsKGMIWvGQbu1bAEHbtXneuBQUMYQteso1dK2AIu3avO9eCAoawBS/Zxq4VMIRdu9eda0EBQ9iCl2xj1woYwq7d6861oIAhbMFLtrFrBQxh1+5151pQwBC24CXb2LUChrBr97pzLShgCFvwkm3sWgFD2LV73bkWFDCELXjJNnatgCHs2r3uXAsKGMIWvGQbu1bAEHbtXneuBQUMYQteso1dK2AIu3avO9eCAoawBS/Zxq4VMIRdu9eda0EBQ9iCl2xj1woYwq7d6861oIAhbMFLtrFrBQxh1+5151pQwBC24CXb2LUChrBr97pzLShgCFvwkm3sWgFD2LV73bkWFDCELXjJNnatgCHs2r3uXAsKGMIWvGQbu1bAEHbtXneuBQUMYQteso1dK2AIu3avO9eCAoawBS/Zxq4VMIRdu9eda0EBQ9iCl2xj1woYwq7d6861oIAhbMFLtrFrBQxh1+5151pQwBC24CXb2LUChrBr97pzLShgCFvwkm3sWgFD2LV73bkWFDCELXjJNnatgCHs2r3uXAsKGMIWvGQbu1bAEHbtXneuBQUMYQteso1dK2AIu3avO9eCAoawBS/Zxq4VMIRdu9eda0EBQ9iCl2xj1woYwq7d6861oIAhbMFLtrFrBQxh1+5151pQwBC24CXb2LUChrBr97pzLShgCFvwkm3sWgFD2LV73bkWFDCELXjJNnatgCHs2r3uXAsKGMIWvGQbu1bAEHbtXneuBQUMYQteso1dK2AIu3avO9eCAoawBS/Zxq4VMIRdu9eda0EBQ9iCl2xj1woYwq7d6861oIAhbMFLtrFrBQxh1+5151pQwBC24CXb2LUChrBr97pzLShgCFvwkm3sWgFD2LV73bkWFDCELXjJNnatgCHs2r3uXAsKGMIWvGQbu1bAEHbtXneuBQUMYQteso1dK2AIu3avO9eCAoawBS/Zxq4VMIRdu9eda0EBQ9iCl2xj1woYwq7d6861oIAhbMFLtrFrBf4PYrmIX8szWTYAAAAASUVORK5CYII=)\n",
        "\n",
        "LendingClub is a US peer-to-peer lending company, headquartered in San Francisco, California. In this project, we use supervised learning models to identify whether the LC loan will be **default** in the future.\n",
        "The results may be helpful to determine client's and make a prediction of their **loan interest rate**. [Dataset information](https://drive.google.com/file/d/1VOAhrB5eIhFc8C5qeFx5QYa2OLD7s1eV/view)."
      ]
    },
    {
      "cell_type": "markdown",
      "metadata": {
        "id": "SGCz0CcuWJJu"
      },
      "source": [
        "# Part 0: Setup Google Drive Environment"
      ]
    },
    {
      "cell_type": "code",
      "metadata": {
        "id": "ucL8hFCIOQ3x"
      },
      "source": [
        "import pandas as pd\n",
        "import numpy as np\n",
        "\n",
        "import tabulate as tabulate\n",
        "\n",
        "from sklearn.ensemble import RandomForestRegressor\n",
        "from sklearn.model_selection import train_test_split"
      ],
      "execution_count": 2,
      "outputs": []
    },
    {
      "cell_type": "code",
      "metadata": {
        "id": "gE7-4aFQZ7RD"
      },
      "source": [
        "!pip install -U -q PyDrive\n",
        "\n",
        "from pydrive.auth import GoogleAuth\n",
        "from pydrive.drive import GoogleDrive\n",
        "from google.colab import auth\n",
        "from oauth2client.client import GoogleCredentials\n",
        "\n",
        "auth.authenticate_user()\n",
        "gauth = GoogleAuth()\n",
        "gauth.credentials = GoogleCredentials.get_application_default()\n",
        "drive = GoogleDrive(gauth)"
      ],
      "execution_count": 3,
      "outputs": []
    },
    {
      "cell_type": "code",
      "metadata": {
        "id": "BpF5eTy1aFxX"
      },
      "source": [
        "# https://drive.google.com/file/d/1y5vNuOi25eYN9_nF52MEjufuw6ES1yj3/view?usp=sharing\n",
        "file = drive.CreateFile({'id':'1y5vNuOi25eYN9_nF52MEjufuw6ES1yj3'}) # replace the id with id of file you want to access\n",
        "file.GetContentFile('loan-clean-version.csv')"
      ],
      "execution_count": 5,
      "outputs": []
    },
    {
      "cell_type": "code",
      "metadata": {
        "id": "t811e29mau3T"
      },
      "source": [
        "df = pd.read_csv('loan-clean-version.csv')"
      ],
      "execution_count": 27,
      "outputs": []
    },
    {
      "cell_type": "markdown",
      "metadata": {
        "id": "yaN6NqQ2bHoQ"
      },
      "source": [
        "# Part 1: Data Exploration\n",
        "\n",
        "Here is a full description of each fields. Please note that some fileds have been removed from the dataset.\n",
        "\n",
        "LoanStatNew\t | Description\n",
        "--- | ---\n",
        "zip_code\t|The first 3 numbers of the zip code provided by the borrower in the loan application.\n",
        "addr_state\t|The state provided by the borrower in the loan application\n",
        "annual_inc|\tThe annual income provided by the borrower during registration.\n",
        "collection_recovery_fee |\tpost charge off collection fee\n",
        "collections_12_mths_ex_med |\tNumber of collections in 12 months excluding medical collections\n",
        "delinq_2yrs\t|The number of 30+ days past-due incidences of delinquency in the borrower’s credit file for the past 2 years\n",
        "desc |\tLoan description provided by the borrower\n",
        "dti\t| A ratio calculated using the borrower’s total monthly debt payments on the total debt obligations, excluding mortgage and the requested LC loan, divided by the borrower’s self-reported monthly income.\n",
        "earliest_cr_line\t|The month the borrower’s earliest reported credit line was opened\n",
        "emp_length|\tEmployment length in years. Possible values are between 0 and 10 where 0 means less than one year and 10 means ten or more years.\n",
        "emp_title|\tThe job title supplied by the Borrower when applying for the loan.\n",
        "fico_range_high\t|The upper boundary of range the borrower’s FICO belongs to.\n",
        "fico_range_low|\tThe lower boundary of range the borrower’s FICO belongs to.\n",
        "funded_amnt |\tThe total amount committed to that loan at that point in time.\n",
        "funded_amnt_inv|\tThe total amount committed by investors for that loan at that point in time.\n",
        "grade |\tLC assigned loan grade\n",
        "home_ownership|\tThe home ownership status provided by the borrower during registration. Our values are: RENT, OWN, MORTGAGE, OTHER.\n",
        "id |\tA unique LC assigned ID for the loan listing.\n",
        "initial_list_status |\tThe initial listing status of the loan. Possible values are – W, F\n",
        "inq_last_6mths |\tThe number of inquiries by creditors during the past 6 months.\n",
        "installment\t| The monthly payment owed by the borrower if the loan originates.\n",
        "int_rate |\tInterest Rate on the loan\n",
        "is_inc_v |\tIndicates if income was verified by LC, not verified, or if the income source was verified\n",
        "issue_d\t | The month which the loan was funded\n",
        "last_credit_pull_d |\tThe most recent month LC pulled credit for this loan\n",
        "last_fico_range_high |\tThe last upper boundary of range the borrower’s FICO belongs to pulled.\n",
        "last_fico_range_low |\tThe last lower boundary of range the borrower’s FICO belongs to pulled.\n",
        "last_pymnt_amnt\t| Last total payment amount received\n",
        "last_pymnt_d |\tLast month payment was received\n",
        "loan_amnt |\tThe listed amount of the loan applied for by the borrower. If at some point in time, the credit department reduces the loan amount, then it will be reflected in this value.\n",
        "loan_status |\tCurrent status of the loan\n",
        "member_id |\tA unique LC assigned Id for the borrower member.\n",
        "mths_since_last_delinq\t| The number of months since the borrower’s last delinquency.\n",
        "mths_since_last_major_derog\t| Months since most recent 90-day or worse rating\n",
        "mths_since_last_record |\tThe number of months since the last public record.\n",
        "next_pymnt_d\t| Next scheduled payment date\n",
        "open_acc\t| The number of open credit lines in the borrower’s credit file.\n",
        "out_prncp |\tRemaining outstanding principal for total amount funded\n",
        "out_prncp_inv\t| Remaining outstanding principal for portion of total amount funded by investors\n",
        "policy_code |\tPublicly available policy_code=1, new products not publicly available policy_code=2\n",
        "pub_rec\t|Number of derogatory public records\n",
        "purpose\t| A category provided by the borrower for the loan request.\n",
        "pymnt_plan |\tIndicates if a payment plan has been put in place for the loan\n",
        "recoveries |\tpost charge off gross recovery\n",
        "revol_bal |\tTotal credit revolving balance\n",
        "revol_util|\tRevolving line utilization rate, or the amount of credit the borrower is using relative to all available revolving credit.\n",
        "sub_grade |\tLC assigned loan subgrade\n",
        "term\t| The number of payments on the loan. Values are in months and can be either 36 or 60.\n",
        "title |\tThe loan title provided by the borrower\n",
        "total_acc\t| The total number of credit lines currently in the borrower’s credit file\n",
        "total_pymnt\t|Payments received to date for total amount funded\n",
        "total_pymnt_inv |\tPayments received to date for portion of total amount funded by investors\n",
        "total_rec_int\t| Interest received to date\n",
        "total_rec_late_fee|\tLate fees received to date\n",
        "total_rec_prncp\t| Principal received to date\n",
        "url\t| URL for the LC page with listing data."
      ]
    },
    {
      "cell_type": "markdown",
      "metadata": {
        "id": "JibdFVQccXG_"
      },
      "source": [
        "##1.1 Understand the Raw Dataset"
      ]
    },
    {
      "cell_type": "code",
      "metadata": {
        "colab": {
          "base_uri": "https://localhost:8080/",
          "height": 313
        },
        "id": "7O_ugIb3bkb_",
        "outputId": "a9c552b7-6484-4c3b-a9f4-16022b05c333"
      },
      "source": [
        "df.head()"
      ],
      "execution_count": null,
      "outputs": [
        {
          "output_type": "execute_result",
          "data": {
            "text/html": [
              "<div>\n",
              "<style scoped>\n",
              "    .dataframe tbody tr th:only-of-type {\n",
              "        vertical-align: middle;\n",
              "    }\n",
              "\n",
              "    .dataframe tbody tr th {\n",
              "        vertical-align: top;\n",
              "    }\n",
              "\n",
              "    .dataframe thead th {\n",
              "        text-align: right;\n",
              "    }\n",
              "</style>\n",
              "<table border=\"1\" class=\"dataframe\">\n",
              "  <thead>\n",
              "    <tr style=\"text-align: right;\">\n",
              "      <th></th>\n",
              "      <th>id</th>\n",
              "      <th>loan_amnt</th>\n",
              "      <th>funded_amnt</th>\n",
              "      <th>funded_amnt_inv</th>\n",
              "      <th>term</th>\n",
              "      <th>int_rate</th>\n",
              "      <th>installment</th>\n",
              "      <th>grade</th>\n",
              "      <th>emp_length</th>\n",
              "      <th>home_ownership</th>\n",
              "      <th>annual_inc</th>\n",
              "      <th>verification_status</th>\n",
              "      <th>purpose</th>\n",
              "      <th>addr_state</th>\n",
              "      <th>dti</th>\n",
              "      <th>earliest_cr_line</th>\n",
              "      <th>inq_last_6mths</th>\n",
              "      <th>open_acc</th>\n",
              "      <th>pub_rec</th>\n",
              "      <th>revol_bal</th>\n",
              "      <th>revol_util</th>\n",
              "      <th>total_acc</th>\n",
              "      <th>out_prncp</th>\n",
              "      <th>out_prncp_inv</th>\n",
              "      <th>total_pymnt</th>\n",
              "      <th>total_pymnt_inv</th>\n",
              "      <th>total_rec_prncp</th>\n",
              "      <th>total_rec_int</th>\n",
              "      <th>loan_status</th>\n",
              "    </tr>\n",
              "  </thead>\n",
              "  <tbody>\n",
              "    <tr>\n",
              "      <th>0</th>\n",
              "      <td>1077501</td>\n",
              "      <td>5000</td>\n",
              "      <td>5000</td>\n",
              "      <td>4975.0</td>\n",
              "      <td>36 months</td>\n",
              "      <td>10.65</td>\n",
              "      <td>162.87</td>\n",
              "      <td>B</td>\n",
              "      <td>10+ years</td>\n",
              "      <td>RENT</td>\n",
              "      <td>24000.0</td>\n",
              "      <td>Verified</td>\n",
              "      <td>credit_card</td>\n",
              "      <td>AZ</td>\n",
              "      <td>27.65</td>\n",
              "      <td>31048</td>\n",
              "      <td>1</td>\n",
              "      <td>3</td>\n",
              "      <td>0</td>\n",
              "      <td>13648</td>\n",
              "      <td>83.7</td>\n",
              "      <td>9</td>\n",
              "      <td>0</td>\n",
              "      <td>0</td>\n",
              "      <td>5861.071414</td>\n",
              "      <td>5831.78</td>\n",
              "      <td>5000.00</td>\n",
              "      <td>861.07</td>\n",
              "      <td>Fully Paid</td>\n",
              "    </tr>\n",
              "    <tr>\n",
              "      <th>1</th>\n",
              "      <td>1077430</td>\n",
              "      <td>2500</td>\n",
              "      <td>2500</td>\n",
              "      <td>2500.0</td>\n",
              "      <td>60 months</td>\n",
              "      <td>15.27</td>\n",
              "      <td>59.83</td>\n",
              "      <td>C</td>\n",
              "      <td>Less than 1 year</td>\n",
              "      <td>RENT</td>\n",
              "      <td>30000.0</td>\n",
              "      <td>Source Verified</td>\n",
              "      <td>car</td>\n",
              "      <td>GA</td>\n",
              "      <td>1.00</td>\n",
              "      <td>36251</td>\n",
              "      <td>5</td>\n",
              "      <td>3</td>\n",
              "      <td>0</td>\n",
              "      <td>1687</td>\n",
              "      <td>9.4</td>\n",
              "      <td>4</td>\n",
              "      <td>0</td>\n",
              "      <td>0</td>\n",
              "      <td>1008.710000</td>\n",
              "      <td>1008.71</td>\n",
              "      <td>456.46</td>\n",
              "      <td>435.17</td>\n",
              "      <td>Charged Off</td>\n",
              "    </tr>\n",
              "    <tr>\n",
              "      <th>2</th>\n",
              "      <td>1077175</td>\n",
              "      <td>2400</td>\n",
              "      <td>2400</td>\n",
              "      <td>2400.0</td>\n",
              "      <td>36 months</td>\n",
              "      <td>15.96</td>\n",
              "      <td>84.33</td>\n",
              "      <td>C</td>\n",
              "      <td>10+ years</td>\n",
              "      <td>RENT</td>\n",
              "      <td>12252.0</td>\n",
              "      <td>Not Verified</td>\n",
              "      <td>small_business</td>\n",
              "      <td>IL</td>\n",
              "      <td>8.72</td>\n",
              "      <td>43040</td>\n",
              "      <td>2</td>\n",
              "      <td>2</td>\n",
              "      <td>0</td>\n",
              "      <td>2956</td>\n",
              "      <td>98.5</td>\n",
              "      <td>10</td>\n",
              "      <td>0</td>\n",
              "      <td>0</td>\n",
              "      <td>3003.653644</td>\n",
              "      <td>3003.65</td>\n",
              "      <td>2400.00</td>\n",
              "      <td>603.65</td>\n",
              "      <td>Fully Paid</td>\n",
              "    </tr>\n",
              "    <tr>\n",
              "      <th>3</th>\n",
              "      <td>1076863</td>\n",
              "      <td>10000</td>\n",
              "      <td>10000</td>\n",
              "      <td>10000.0</td>\n",
              "      <td>36 months</td>\n",
              "      <td>13.49</td>\n",
              "      <td>339.31</td>\n",
              "      <td>C</td>\n",
              "      <td>10+ years</td>\n",
              "      <td>RENT</td>\n",
              "      <td>49200.0</td>\n",
              "      <td>Source Verified</td>\n",
              "      <td>other</td>\n",
              "      <td>CA</td>\n",
              "      <td>20.00</td>\n",
              "      <td>35096</td>\n",
              "      <td>1</td>\n",
              "      <td>10</td>\n",
              "      <td>0</td>\n",
              "      <td>5598</td>\n",
              "      <td>21.0</td>\n",
              "      <td>37</td>\n",
              "      <td>0</td>\n",
              "      <td>0</td>\n",
              "      <td>12226.302210</td>\n",
              "      <td>12226.30</td>\n",
              "      <td>10000.00</td>\n",
              "      <td>2209.33</td>\n",
              "      <td>Fully Paid</td>\n",
              "    </tr>\n",
              "    <tr>\n",
              "      <th>4</th>\n",
              "      <td>1075269</td>\n",
              "      <td>5000</td>\n",
              "      <td>5000</td>\n",
              "      <td>5000.0</td>\n",
              "      <td>36 months</td>\n",
              "      <td>7.90</td>\n",
              "      <td>156.46</td>\n",
              "      <td>A</td>\n",
              "      <td>3 years</td>\n",
              "      <td>RENT</td>\n",
              "      <td>36000.0</td>\n",
              "      <td>Source Verified</td>\n",
              "      <td>wedding</td>\n",
              "      <td>AZ</td>\n",
              "      <td>11.20</td>\n",
              "      <td>43043</td>\n",
              "      <td>3</td>\n",
              "      <td>9</td>\n",
              "      <td>0</td>\n",
              "      <td>7963</td>\n",
              "      <td>28.3</td>\n",
              "      <td>12</td>\n",
              "      <td>0</td>\n",
              "      <td>0</td>\n",
              "      <td>5631.377753</td>\n",
              "      <td>5631.38</td>\n",
              "      <td>5000.00</td>\n",
              "      <td>631.38</td>\n",
              "      <td>Fully Paid</td>\n",
              "    </tr>\n",
              "  </tbody>\n",
              "</table>\n",
              "</div>"
            ],
            "text/plain": [
              "        id  loan_amnt  funded_amnt  ...  total_rec_prncp total_rec_int  loan_status\n",
              "0  1077501       5000         5000  ...          5000.00        861.07   Fully Paid\n",
              "1  1077430       2500         2500  ...           456.46        435.17  Charged Off\n",
              "2  1077175       2400         2400  ...          2400.00        603.65   Fully Paid\n",
              "3  1076863      10000        10000  ...         10000.00       2209.33   Fully Paid\n",
              "4  1075269       5000         5000  ...          5000.00        631.38   Fully Paid\n",
              "\n",
              "[5 rows x 29 columns]"
            ]
          },
          "metadata": {},
          "execution_count": 7
        }
      ]
    },
    {
      "cell_type": "code",
      "metadata": {
        "colab": {
          "base_uri": "https://localhost:8080/"
        },
        "id": "lylULG3Mch8k",
        "outputId": "70ead54e-afa7-4a21-b6e0-581d36f03fa3"
      },
      "source": [
        "# check information of the data\n",
        "# 9004 entries and 29 features/fileds\n",
        "df.info()"
      ],
      "execution_count": null,
      "outputs": [
        {
          "output_type": "stream",
          "name": "stdout",
          "text": [
            "<class 'pandas.core.frame.DataFrame'>\n",
            "RangeIndex: 9004 entries, 0 to 9003\n",
            "Data columns (total 29 columns):\n",
            " #   Column               Non-Null Count  Dtype  \n",
            "---  ------               --------------  -----  \n",
            " 0   id                   9004 non-null   int64  \n",
            " 1   loan_amnt            9004 non-null   int64  \n",
            " 2   funded_amnt          9004 non-null   int64  \n",
            " 3   funded_amnt_inv      9004 non-null   float64\n",
            " 4   term                 9004 non-null   object \n",
            " 5   int_rate             9004 non-null   float64\n",
            " 6   installment          9004 non-null   float64\n",
            " 7   grade                9004 non-null   object \n",
            " 8   emp_length           8688 non-null   object \n",
            " 9   home_ownership       9004 non-null   object \n",
            " 10  annual_inc           9004 non-null   float64\n",
            " 11  verification_status  9004 non-null   object \n",
            " 12  purpose              9004 non-null   object \n",
            " 13  addr_state           9004 non-null   object \n",
            " 14  dti                  9004 non-null   float64\n",
            " 15  earliest_cr_line     9004 non-null   int64  \n",
            " 16  inq_last_6mths       9004 non-null   int64  \n",
            " 17  open_acc             9004 non-null   int64  \n",
            " 18  pub_rec              9004 non-null   int64  \n",
            " 19  revol_bal            9004 non-null   int64  \n",
            " 20  revol_util           9001 non-null   float64\n",
            " 21  total_acc            9004 non-null   int64  \n",
            " 22  out_prncp            9004 non-null   int64  \n",
            " 23  out_prncp_inv        9004 non-null   int64  \n",
            " 24  total_pymnt          9004 non-null   float64\n",
            " 25  total_pymnt_inv      9004 non-null   float64\n",
            " 26  total_rec_prncp      9004 non-null   float64\n",
            " 27  total_rec_int        9004 non-null   float64\n",
            " 28  loan_status          9004 non-null   object \n",
            "dtypes: float64(10), int64(11), object(8)\n",
            "memory usage: 2.0+ MB\n"
          ]
        }
      ]
    },
    {
      "cell_type": "code",
      "metadata": {
        "colab": {
          "base_uri": "https://localhost:8080/"
        },
        "id": "gfbDNKQLdPUN",
        "outputId": "78142092-32b7-45ee-d77f-c0fa240415d0"
      },
      "source": [
        "# check unique values of each feature\n",
        "df.nunique()"
      ],
      "execution_count": null,
      "outputs": [
        {
          "output_type": "execute_result",
          "data": {
            "text/plain": [
              "id                     9004\n",
              "loan_amnt               604\n",
              "funded_amnt             681\n",
              "funded_amnt_inv        1234\n",
              "term                      2\n",
              "int_rate                 70\n",
              "installment            3871\n",
              "grade                     7\n",
              "emp_length               11\n",
              "home_ownership            3\n",
              "annual_inc             1555\n",
              "verification_status       3\n",
              "purpose                  13\n",
              "addr_state               45\n",
              "dti                    2559\n",
              "earliest_cr_line        458\n",
              "inq_last_6mths            9\n",
              "open_acc                 33\n",
              "pub_rec                   3\n",
              "revol_bal              7573\n",
              "revol_util             1023\n",
              "total_acc                63\n",
              "out_prncp                 1\n",
              "out_prncp_inv             1\n",
              "total_pymnt            8962\n",
              "total_pymnt_inv        8942\n",
              "total_rec_prncp        2199\n",
              "total_rec_int          8838\n",
              "loan_status               2\n",
              "dtype: int64"
            ]
          },
          "metadata": {},
          "execution_count": 11
        }
      ]
    },
    {
      "cell_type": "code",
      "metadata": {
        "colab": {
          "base_uri": "https://localhost:8080/"
        },
        "id": "RhnAx4nLdT2X",
        "outputId": "eaf86a79-51ea-407a-f84f-54ee2c836287"
      },
      "source": [
        "# checking missing values\n",
        "# null is found in two feastures, and they will be handled in Part 2\n",
        "df.isnull().sum()"
      ],
      "execution_count": null,
      "outputs": [
        {
          "output_type": "execute_result",
          "data": {
            "text/plain": [
              "id                       0\n",
              "loan_amnt                0\n",
              "funded_amnt              0\n",
              "funded_amnt_inv          0\n",
              "term                     0\n",
              "int_rate                 0\n",
              "installment              0\n",
              "grade                    0\n",
              "emp_length             316\n",
              "home_ownership           0\n",
              "annual_inc               0\n",
              "verification_status      0\n",
              "purpose                  0\n",
              "addr_state               0\n",
              "dti                      0\n",
              "earliest_cr_line         0\n",
              "inq_last_6mths           0\n",
              "open_acc                 0\n",
              "pub_rec                  0\n",
              "revol_bal                0\n",
              "revol_util               3\n",
              "total_acc                0\n",
              "out_prncp                0\n",
              "out_prncp_inv            0\n",
              "total_pymnt              0\n",
              "total_pymnt_inv          0\n",
              "total_rec_prncp          0\n",
              "total_rec_int            0\n",
              "loan_status              0\n",
              "dtype: int64"
            ]
          },
          "metadata": {},
          "execution_count": 13
        }
      ]
    },
    {
      "cell_type": "code",
      "metadata": {
        "colab": {
          "base_uri": "https://localhost:8080/"
        },
        "id": "GOcJ8gJ2e86d",
        "outputId": "f6c255ff-10cc-49ab-e273-9059c1315342"
      },
      "source": [
        "# check the target 'loan_status'\n",
        "df.loc[:, 'loan_status'].value_counts()"
      ],
      "execution_count": null,
      "outputs": [
        {
          "output_type": "execute_result",
          "data": {
            "text/plain": [
              "Fully Paid     7487\n",
              "Charged Off    1517\n",
              "Name: loan_status, dtype: int64"
            ]
          },
          "metadata": {},
          "execution_count": 14
        }
      ]
    },
    {
      "cell_type": "markdown",
      "metadata": {
        "id": "JI1X-lHTfMZ7"
      },
      "source": [
        "## 1.2 Explorary Data Analysis (EDA)"
      ]
    },
    {
      "cell_type": "code",
      "metadata": {
        "colab": {
          "base_uri": "https://localhost:8080/",
          "height": 383
        },
        "id": "bXEk4BLffeQk",
        "outputId": "d52a8a12-84e3-457d-eaaf-3c77688e2c63"
      },
      "source": [
        "# correlation heatmap of numerial features\n",
        "import seaborn as sns\n",
        "import matplotlib.pyplot as plt\n",
        "sns.set()\n",
        "\n",
        "numericCol = []\n",
        "for col in df:\n",
        "  if df[col].dtype == np.float:\n",
        "    numericCol.append(col)\n",
        "corr = df[numericCol].corr()\n",
        "corr"
      ],
      "execution_count": null,
      "outputs": [
        {
          "output_type": "execute_result",
          "data": {
            "text/html": [
              "<div>\n",
              "<style scoped>\n",
              "    .dataframe tbody tr th:only-of-type {\n",
              "        vertical-align: middle;\n",
              "    }\n",
              "\n",
              "    .dataframe tbody tr th {\n",
              "        vertical-align: top;\n",
              "    }\n",
              "\n",
              "    .dataframe thead th {\n",
              "        text-align: right;\n",
              "    }\n",
              "</style>\n",
              "<table border=\"1\" class=\"dataframe\">\n",
              "  <thead>\n",
              "    <tr style=\"text-align: right;\">\n",
              "      <th></th>\n",
              "      <th>funded_amnt_inv</th>\n",
              "      <th>int_rate</th>\n",
              "      <th>installment</th>\n",
              "      <th>annual_inc</th>\n",
              "      <th>dti</th>\n",
              "      <th>revol_util</th>\n",
              "      <th>total_pymnt</th>\n",
              "      <th>total_pymnt_inv</th>\n",
              "      <th>total_rec_prncp</th>\n",
              "      <th>total_rec_int</th>\n",
              "    </tr>\n",
              "  </thead>\n",
              "  <tbody>\n",
              "    <tr>\n",
              "      <th>funded_amnt_inv</th>\n",
              "      <td>1.000000</td>\n",
              "      <td>0.302945</td>\n",
              "      <td>0.959195</td>\n",
              "      <td>0.371554</td>\n",
              "      <td>0.025192</td>\n",
              "      <td>0.022395</td>\n",
              "      <td>0.884368</td>\n",
              "      <td>0.885395</td>\n",
              "      <td>0.829373</td>\n",
              "      <td>0.734486</td>\n",
              "    </tr>\n",
              "    <tr>\n",
              "      <th>int_rate</th>\n",
              "      <td>0.302945</td>\n",
              "      <td>1.000000</td>\n",
              "      <td>0.267857</td>\n",
              "      <td>0.076103</td>\n",
              "      <td>0.091614</td>\n",
              "      <td>0.470893</td>\n",
              "      <td>0.259296</td>\n",
              "      <td>0.258493</td>\n",
              "      <td>0.124425</td>\n",
              "      <td>0.531955</td>\n",
              "    </tr>\n",
              "    <tr>\n",
              "      <th>installment</th>\n",
              "      <td>0.959195</td>\n",
              "      <td>0.267857</td>\n",
              "      <td>1.000000</td>\n",
              "      <td>0.385192</td>\n",
              "      <td>0.017451</td>\n",
              "      <td>0.056484</td>\n",
              "      <td>0.859719</td>\n",
              "      <td>0.859358</td>\n",
              "      <td>0.827792</td>\n",
              "      <td>0.660184</td>\n",
              "    </tr>\n",
              "    <tr>\n",
              "      <th>annual_inc</th>\n",
              "      <td>0.371554</td>\n",
              "      <td>0.076103</td>\n",
              "      <td>0.385192</td>\n",
              "      <td>1.000000</td>\n",
              "      <td>-0.176920</td>\n",
              "      <td>-0.005319</td>\n",
              "      <td>0.366455</td>\n",
              "      <td>0.364869</td>\n",
              "      <td>0.365577</td>\n",
              "      <td>0.253143</td>\n",
              "    </tr>\n",
              "    <tr>\n",
              "      <th>dti</th>\n",
              "      <td>0.025192</td>\n",
              "      <td>0.091614</td>\n",
              "      <td>0.017451</td>\n",
              "      <td>-0.176920</td>\n",
              "      <td>1.000000</td>\n",
              "      <td>0.243479</td>\n",
              "      <td>0.020130</td>\n",
              "      <td>0.019860</td>\n",
              "      <td>-0.004552</td>\n",
              "      <td>0.077365</td>\n",
              "    </tr>\n",
              "    <tr>\n",
              "      <th>revol_util</th>\n",
              "      <td>0.022395</td>\n",
              "      <td>0.470893</td>\n",
              "      <td>0.056484</td>\n",
              "      <td>-0.005319</td>\n",
              "      <td>0.243479</td>\n",
              "      <td>1.000000</td>\n",
              "      <td>0.022241</td>\n",
              "      <td>0.024014</td>\n",
              "      <td>-0.036570</td>\n",
              "      <td>0.171383</td>\n",
              "    </tr>\n",
              "    <tr>\n",
              "      <th>total_pymnt</th>\n",
              "      <td>0.884368</td>\n",
              "      <td>0.259296</td>\n",
              "      <td>0.859719</td>\n",
              "      <td>0.366455</td>\n",
              "      <td>0.020130</td>\n",
              "      <td>0.022241</td>\n",
              "      <td>1.000000</td>\n",
              "      <td>0.998224</td>\n",
              "      <td>0.968533</td>\n",
              "      <td>0.795019</td>\n",
              "    </tr>\n",
              "    <tr>\n",
              "      <th>total_pymnt_inv</th>\n",
              "      <td>0.885395</td>\n",
              "      <td>0.258493</td>\n",
              "      <td>0.859358</td>\n",
              "      <td>0.364869</td>\n",
              "      <td>0.019860</td>\n",
              "      <td>0.024014</td>\n",
              "      <td>0.998224</td>\n",
              "      <td>1.000000</td>\n",
              "      <td>0.966596</td>\n",
              "      <td>0.794365</td>\n",
              "    </tr>\n",
              "    <tr>\n",
              "      <th>total_rec_prncp</th>\n",
              "      <td>0.829373</td>\n",
              "      <td>0.124425</td>\n",
              "      <td>0.827792</td>\n",
              "      <td>0.365577</td>\n",
              "      <td>-0.004552</td>\n",
              "      <td>-0.036570</td>\n",
              "      <td>0.968533</td>\n",
              "      <td>0.966596</td>\n",
              "      <td>1.000000</td>\n",
              "      <td>0.634057</td>\n",
              "    </tr>\n",
              "    <tr>\n",
              "      <th>total_rec_int</th>\n",
              "      <td>0.734486</td>\n",
              "      <td>0.531955</td>\n",
              "      <td>0.660184</td>\n",
              "      <td>0.253143</td>\n",
              "      <td>0.077365</td>\n",
              "      <td>0.171383</td>\n",
              "      <td>0.795019</td>\n",
              "      <td>0.794365</td>\n",
              "      <td>0.634057</td>\n",
              "      <td>1.000000</td>\n",
              "    </tr>\n",
              "  </tbody>\n",
              "</table>\n",
              "</div>"
            ],
            "text/plain": [
              "                 funded_amnt_inv  int_rate  ...  total_rec_prncp  total_rec_int\n",
              "funded_amnt_inv         1.000000  0.302945  ...         0.829373       0.734486\n",
              "int_rate                0.302945  1.000000  ...         0.124425       0.531955\n",
              "installment             0.959195  0.267857  ...         0.827792       0.660184\n",
              "annual_inc              0.371554  0.076103  ...         0.365577       0.253143\n",
              "dti                     0.025192  0.091614  ...        -0.004552       0.077365\n",
              "revol_util              0.022395  0.470893  ...        -0.036570       0.171383\n",
              "total_pymnt             0.884368  0.259296  ...         0.968533       0.795019\n",
              "total_pymnt_inv         0.885395  0.258493  ...         0.966596       0.794365\n",
              "total_rec_prncp         0.829373  0.124425  ...         1.000000       0.634057\n",
              "total_rec_int           0.734486  0.531955  ...         0.634057       1.000000\n",
              "\n",
              "[10 rows x 10 columns]"
            ]
          },
          "metadata": {},
          "execution_count": 25
        }
      ]
    },
    {
      "cell_type": "code",
      "metadata": {
        "colab": {
          "base_uri": "https://localhost:8080/",
          "height": 357
        },
        "id": "hMCpGg0xhNzu",
        "outputId": "d8a58de8-d080-4a47-d42f-003128969771"
      },
      "source": [
        "ax = sns.heatmap(corr, vmin = -1, vmax = 1, center = 0, cmap=sns.diverging_palette(20, 220, n=200), square = True)"
      ],
      "execution_count": null,
      "outputs": [
        {
          "output_type": "display_data",
          "data": {
            "image/png": "[encoded data removed]",
            "text/plain": [
              "<Figure size 432x288 with 2 Axes>"
            ]
          },
          "metadata": {}
        }
      ]
    },
    {
      "cell_type": "markdown",
      "metadata": {
        "id": "q45n1kaZo5Te"
      },
      "source": [
        "**Observations:** Some features such as total_pymnt, total_pymnt_inv, and funded_amnt_inv have strong correlation."
      ]
    },
    {
      "cell_type": "code",
      "metadata": {
        "colab": {
          "base_uri": "https://localhost:8080/",
          "height": 699
        },
        "id": "whG7ipPZpHVM",
        "outputId": "5d638e72-6272-49fd-d4d0-b9552e77eefa"
      },
      "source": [
        "# understand categorical feature\n",
        "_,axss = plt.subplots(3,2, figsize=[30,20])\n",
        "sns.countplot(x='loan_status', hue='term', data=df, ax=axss[0][0])\n",
        "sns.countplot(x='loan_status', hue='grade', data=df, ax=axss[0][1])\n",
        "sns.countplot(x='loan_status', hue='emp_length', data=df, ax=axss[1][0])\n",
        "sns.countplot(x='loan_status', hue='home_ownership', data=df, ax=axss[1][1])\n",
        "sns.countplot(x='loan_status', hue='verification_status', data=df, ax=axss[2][0])\n",
        "sns.countplot(x='loan_status', hue='purpose', data=df, ax=axss[2][1])"
      ],
      "execution_count": null,
      "outputs": [
        {
          "output_type": "execute_result",
          "data": {
            "text/plain": [
              "<matplotlib.axes._subplots.AxesSubplot at 0x7fe0e16e38d0>"
            ]
          },
          "metadata": {},
          "execution_count": 32
        },
        {
          "output_type": "display_data",
          "data": {
            "image/png": "[encoded data removed]",
            "text/plain": [
              "<Figure size 2160x1440 with 6 Axes>"
            ]
          },
          "metadata": {}
        }
      ]
    },
    {
      "cell_type": "markdown",
      "metadata": {
        "id": "5yfeBGdvjKwY"
      },
      "source": [
        "# Part 2: Data cleaning and Feature Preprocessing"
      ]
    },
    {
      "cell_type": "markdown",
      "metadata": {
        "id": "46R4txyWltli"
      },
      "source": [
        "## 2.1 Data Cleaning\n",
        "\n",
        "We convert \"object\" features into numerical features, drop nulls, and remove highly-corelated features."
      ]
    },
    {
      "cell_type": "code",
      "metadata": {
        "id": "eAVmhL0OupKu",
        "colab": {
          "base_uri": "https://localhost:8080/",
          "height": 313
        },
        "outputId": "724bd4e9-787f-4283-91fc-498f5da58110"
      },
      "source": [
        "df = pd.read_csv('loan-clean-version.csv')\n",
        "df.head()"
      ],
      "execution_count": 83,
      "outputs": [
        {
          "output_type": "execute_result",
          "data": {
            "text/html": [
              "<div>\n",
              "<style scoped>\n",
              "    .dataframe tbody tr th:only-of-type {\n",
              "        vertical-align: middle;\n",
              "    }\n",
              "\n",
              "    .dataframe tbody tr th {\n",
              "        vertical-align: top;\n",
              "    }\n",
              "\n",
              "    .dataframe thead th {\n",
              "        text-align: right;\n",
              "    }\n",
              "</style>\n",
              "<table border=\"1\" class=\"dataframe\">\n",
              "  <thead>\n",
              "    <tr style=\"text-align: right;\">\n",
              "      <th></th>\n",
              "      <th>id</th>\n",
              "      <th>loan_amnt</th>\n",
              "      <th>funded_amnt</th>\n",
              "      <th>funded_amnt_inv</th>\n",
              "      <th>term</th>\n",
              "      <th>int_rate</th>\n",
              "      <th>installment</th>\n",
              "      <th>grade</th>\n",
              "      <th>emp_length</th>\n",
              "      <th>home_ownership</th>\n",
              "      <th>annual_inc</th>\n",
              "      <th>verification_status</th>\n",
              "      <th>purpose</th>\n",
              "      <th>addr_state</th>\n",
              "      <th>dti</th>\n",
              "      <th>earliest_cr_line</th>\n",
              "      <th>inq_last_6mths</th>\n",
              "      <th>open_acc</th>\n",
              "      <th>pub_rec</th>\n",
              "      <th>revol_bal</th>\n",
              "      <th>revol_util</th>\n",
              "      <th>total_acc</th>\n",
              "      <th>out_prncp</th>\n",
              "      <th>out_prncp_inv</th>\n",
              "      <th>total_pymnt</th>\n",
              "      <th>total_pymnt_inv</th>\n",
              "      <th>total_rec_prncp</th>\n",
              "      <th>total_rec_int</th>\n",
              "      <th>loan_status</th>\n",
              "    </tr>\n",
              "  </thead>\n",
              "  <tbody>\n",
              "    <tr>\n",
              "      <th>0</th>\n",
              "      <td>1077501</td>\n",
              "      <td>5000</td>\n",
              "      <td>5000</td>\n",
              "      <td>4975.0</td>\n",
              "      <td>36 months</td>\n",
              "      <td>10.65</td>\n",
              "      <td>162.87</td>\n",
              "      <td>B</td>\n",
              "      <td>10+ years</td>\n",
              "      <td>RENT</td>\n",
              "      <td>24000.0</td>\n",
              "      <td>Verified</td>\n",
              "      <td>credit_card</td>\n",
              "      <td>AZ</td>\n",
              "      <td>27.65</td>\n",
              "      <td>31048</td>\n",
              "      <td>1</td>\n",
              "      <td>3</td>\n",
              "      <td>0</td>\n",
              "      <td>13648</td>\n",
              "      <td>83.7</td>\n",
              "      <td>9</td>\n",
              "      <td>0</td>\n",
              "      <td>0</td>\n",
              "      <td>5861.071414</td>\n",
              "      <td>5831.78</td>\n",
              "      <td>5000.00</td>\n",
              "      <td>861.07</td>\n",
              "      <td>Fully Paid</td>\n",
              "    </tr>\n",
              "    <tr>\n",
              "      <th>1</th>\n",
              "      <td>1077430</td>\n",
              "      <td>2500</td>\n",
              "      <td>2500</td>\n",
              "      <td>2500.0</td>\n",
              "      <td>60 months</td>\n",
              "      <td>15.27</td>\n",
              "      <td>59.83</td>\n",
              "      <td>C</td>\n",
              "      <td>Less than 1 year</td>\n",
              "      <td>RENT</td>\n",
              "      <td>30000.0</td>\n",
              "      <td>Source Verified</td>\n",
              "      <td>car</td>\n",
              "      <td>GA</td>\n",
              "      <td>1.00</td>\n",
              "      <td>36251</td>\n",
              "      <td>5</td>\n",
              "      <td>3</td>\n",
              "      <td>0</td>\n",
              "      <td>1687</td>\n",
              "      <td>9.4</td>\n",
              "      <td>4</td>\n",
              "      <td>0</td>\n",
              "      <td>0</td>\n",
              "      <td>1008.710000</td>\n",
              "      <td>1008.71</td>\n",
              "      <td>456.46</td>\n",
              "      <td>435.17</td>\n",
              "      <td>Charged Off</td>\n",
              "    </tr>\n",
              "    <tr>\n",
              "      <th>2</th>\n",
              "      <td>1077175</td>\n",
              "      <td>2400</td>\n",
              "      <td>2400</td>\n",
              "      <td>2400.0</td>\n",
              "      <td>36 months</td>\n",
              "      <td>15.96</td>\n",
              "      <td>84.33</td>\n",
              "      <td>C</td>\n",
              "      <td>10+ years</td>\n",
              "      <td>RENT</td>\n",
              "      <td>12252.0</td>\n",
              "      <td>Not Verified</td>\n",
              "      <td>small_business</td>\n",
              "      <td>IL</td>\n",
              "      <td>8.72</td>\n",
              "      <td>43040</td>\n",
              "      <td>2</td>\n",
              "      <td>2</td>\n",
              "      <td>0</td>\n",
              "      <td>2956</td>\n",
              "      <td>98.5</td>\n",
              "      <td>10</td>\n",
              "      <td>0</td>\n",
              "      <td>0</td>\n",
              "      <td>3003.653644</td>\n",
              "      <td>3003.65</td>\n",
              "      <td>2400.00</td>\n",
              "      <td>603.65</td>\n",
              "      <td>Fully Paid</td>\n",
              "    </tr>\n",
              "    <tr>\n",
              "      <th>3</th>\n",
              "      <td>1076863</td>\n",
              "      <td>10000</td>\n",
              "      <td>10000</td>\n",
              "      <td>10000.0</td>\n",
              "      <td>36 months</td>\n",
              "      <td>13.49</td>\n",
              "      <td>339.31</td>\n",
              "      <td>C</td>\n",
              "      <td>10+ years</td>\n",
              "      <td>RENT</td>\n",
              "      <td>49200.0</td>\n",
              "      <td>Source Verified</td>\n",
              "      <td>other</td>\n",
              "      <td>CA</td>\n",
              "      <td>20.00</td>\n",
              "      <td>35096</td>\n",
              "      <td>1</td>\n",
              "      <td>10</td>\n",
              "      <td>0</td>\n",
              "      <td>5598</td>\n",
              "      <td>21.0</td>\n",
              "      <td>37</td>\n",
              "      <td>0</td>\n",
              "      <td>0</td>\n",
              "      <td>12226.302210</td>\n",
              "      <td>12226.30</td>\n",
              "      <td>10000.00</td>\n",
              "      <td>2209.33</td>\n",
              "      <td>Fully Paid</td>\n",
              "    </tr>\n",
              "    <tr>\n",
              "      <th>4</th>\n",
              "      <td>1075269</td>\n",
              "      <td>5000</td>\n",
              "      <td>5000</td>\n",
              "      <td>5000.0</td>\n",
              "      <td>36 months</td>\n",
              "      <td>7.90</td>\n",
              "      <td>156.46</td>\n",
              "      <td>A</td>\n",
              "      <td>3 years</td>\n",
              "      <td>RENT</td>\n",
              "      <td>36000.0</td>\n",
              "      <td>Source Verified</td>\n",
              "      <td>wedding</td>\n",
              "      <td>AZ</td>\n",
              "      <td>11.20</td>\n",
              "      <td>43043</td>\n",
              "      <td>3</td>\n",
              "      <td>9</td>\n",
              "      <td>0</td>\n",
              "      <td>7963</td>\n",
              "      <td>28.3</td>\n",
              "      <td>12</td>\n",
              "      <td>0</td>\n",
              "      <td>0</td>\n",
              "      <td>5631.377753</td>\n",
              "      <td>5631.38</td>\n",
              "      <td>5000.00</td>\n",
              "      <td>631.38</td>\n",
              "      <td>Fully Paid</td>\n",
              "    </tr>\n",
              "  </tbody>\n",
              "</table>\n",
              "</div>"
            ],
            "text/plain": [
              "        id  loan_amnt  funded_amnt  ...  total_rec_prncp total_rec_int  loan_status\n",
              "0  1077501       5000         5000  ...          5000.00        861.07   Fully Paid\n",
              "1  1077430       2500         2500  ...           456.46        435.17  Charged Off\n",
              "2  1077175       2400         2400  ...          2400.00        603.65   Fully Paid\n",
              "3  1076863      10000        10000  ...         10000.00       2209.33   Fully Paid\n",
              "4  1075269       5000         5000  ...          5000.00        631.38   Fully Paid\n",
              "\n",
              "[5 rows x 29 columns]"
            ]
          },
          "metadata": {},
          "execution_count": 83
        }
      ]
    },
    {
      "cell_type": "code",
      "metadata": {
        "colab": {
          "base_uri": "https://localhost:8080/",
          "height": 226
        },
        "id": "QZI6L4FJmCi7",
        "outputId": "7fd9b931-f8d2-4915-fa40-1af376834e0e"
      },
      "source": [
        "# numerical conversion\n",
        "features = ('term', 'grade', 'home_ownership', 'verification_status', 'purpose',\n",
        "           'addr_state')\n",
        "for feature in features:\n",
        "  class_mapping = {label: idx for idx, label in enumerate(np.unique(df[feature]))}\n",
        "  df[feature] = df[feature].map(class_mapping)\n",
        "\n",
        "\n",
        "class_mapping = {'Less than 1 year' : 0, '1 year' : 1, '2 years': 2, '3 years' : 3,\n",
        "                '4 years': 4, '5 years' : 5, '6 years' : 6, '7 years' : 7,\n",
        "                '8 years' : 8, '9 years' : 9, '10+ years' : 10}\n",
        "df['emp_length'] = df['emp_length'].map(class_mapping)\n",
        "\n",
        "class_mapping = {'Fully Paid' : 0, 'Charged Off' : 1}\n",
        "df['loan_status']=df['loan_status'].map(class_mapping)\n",
        "df.head()"
      ],
      "execution_count": 84,
      "outputs": [
        {
          "output_type": "execute_result",
          "data": {
            "text/html": [
              "<div>\n",
              "<style scoped>\n",
              "    .dataframe tbody tr th:only-of-type {\n",
              "        vertical-align: middle;\n",
              "    }\n",
              "\n",
              "    .dataframe tbody tr th {\n",
              "        vertical-align: top;\n",
              "    }\n",
              "\n",
              "    .dataframe thead th {\n",
              "        text-align: right;\n",
              "    }\n",
              "</style>\n",
              "<table border=\"1\" class=\"dataframe\">\n",
              "  <thead>\n",
              "    <tr style=\"text-align: right;\">\n",
              "      <th></th>\n",
              "      <th>id</th>\n",
              "      <th>loan_amnt</th>\n",
              "      <th>funded_amnt</th>\n",
              "      <th>funded_amnt_inv</th>\n",
              "      <th>term</th>\n",
              "      <th>int_rate</th>\n",
              "      <th>installment</th>\n",
              "      <th>grade</th>\n",
              "      <th>emp_length</th>\n",
              "      <th>home_ownership</th>\n",
              "      <th>annual_inc</th>\n",
              "      <th>verification_status</th>\n",
              "      <th>purpose</th>\n",
              "      <th>addr_state</th>\n",
              "      <th>dti</th>\n",
              "      <th>earliest_cr_line</th>\n",
              "      <th>inq_last_6mths</th>\n",
              "      <th>open_acc</th>\n",
              "      <th>pub_rec</th>\n",
              "      <th>revol_bal</th>\n",
              "      <th>revol_util</th>\n",
              "      <th>total_acc</th>\n",
              "      <th>out_prncp</th>\n",
              "      <th>out_prncp_inv</th>\n",
              "      <th>total_pymnt</th>\n",
              "      <th>total_pymnt_inv</th>\n",
              "      <th>total_rec_prncp</th>\n",
              "      <th>total_rec_int</th>\n",
              "      <th>loan_status</th>\n",
              "    </tr>\n",
              "  </thead>\n",
              "  <tbody>\n",
              "    <tr>\n",
              "      <th>0</th>\n",
              "      <td>1077501</td>\n",
              "      <td>5000</td>\n",
              "      <td>5000</td>\n",
              "      <td>4975.0</td>\n",
              "      <td>0</td>\n",
              "      <td>10.65</td>\n",
              "      <td>162.87</td>\n",
              "      <td>1</td>\n",
              "      <td>10.0</td>\n",
              "      <td>2</td>\n",
              "      <td>24000.0</td>\n",
              "      <td>2</td>\n",
              "      <td>1</td>\n",
              "      <td>3</td>\n",
              "      <td>27.65</td>\n",
              "      <td>31048</td>\n",
              "      <td>1</td>\n",
              "      <td>3</td>\n",
              "      <td>0</td>\n",
              "      <td>13648</td>\n",
              "      <td>83.7</td>\n",
              "      <td>9</td>\n",
              "      <td>0</td>\n",
              "      <td>0</td>\n",
              "      <td>5861.071414</td>\n",
              "      <td>5831.78</td>\n",
              "      <td>5000.00</td>\n",
              "      <td>861.07</td>\n",
              "      <td>0</td>\n",
              "    </tr>\n",
              "    <tr>\n",
              "      <th>1</th>\n",
              "      <td>1077430</td>\n",
              "      <td>2500</td>\n",
              "      <td>2500</td>\n",
              "      <td>2500.0</td>\n",
              "      <td>1</td>\n",
              "      <td>15.27</td>\n",
              "      <td>59.83</td>\n",
              "      <td>2</td>\n",
              "      <td>0.0</td>\n",
              "      <td>2</td>\n",
              "      <td>30000.0</td>\n",
              "      <td>1</td>\n",
              "      <td>0</td>\n",
              "      <td>10</td>\n",
              "      <td>1.00</td>\n",
              "      <td>36251</td>\n",
              "      <td>5</td>\n",
              "      <td>3</td>\n",
              "      <td>0</td>\n",
              "      <td>1687</td>\n",
              "      <td>9.4</td>\n",
              "      <td>4</td>\n",
              "      <td>0</td>\n",
              "      <td>0</td>\n",
              "      <td>1008.710000</td>\n",
              "      <td>1008.71</td>\n",
              "      <td>456.46</td>\n",
              "      <td>435.17</td>\n",
              "      <td>1</td>\n",
              "    </tr>\n",
              "    <tr>\n",
              "      <th>2</th>\n",
              "      <td>1077175</td>\n",
              "      <td>2400</td>\n",
              "      <td>2400</td>\n",
              "      <td>2400.0</td>\n",
              "      <td>0</td>\n",
              "      <td>15.96</td>\n",
              "      <td>84.33</td>\n",
              "      <td>2</td>\n",
              "      <td>10.0</td>\n",
              "      <td>2</td>\n",
              "      <td>12252.0</td>\n",
              "      <td>0</td>\n",
              "      <td>10</td>\n",
              "      <td>12</td>\n",
              "      <td>8.72</td>\n",
              "      <td>43040</td>\n",
              "      <td>2</td>\n",
              "      <td>2</td>\n",
              "      <td>0</td>\n",
              "      <td>2956</td>\n",
              "      <td>98.5</td>\n",
              "      <td>10</td>\n",
              "      <td>0</td>\n",
              "      <td>0</td>\n",
              "      <td>3003.653644</td>\n",
              "      <td>3003.65</td>\n",
              "      <td>2400.00</td>\n",
              "      <td>603.65</td>\n",
              "      <td>0</td>\n",
              "    </tr>\n",
              "    <tr>\n",
              "      <th>3</th>\n",
              "      <td>1076863</td>\n",
              "      <td>10000</td>\n",
              "      <td>10000</td>\n",
              "      <td>10000.0</td>\n",
              "      <td>0</td>\n",
              "      <td>13.49</td>\n",
              "      <td>339.31</td>\n",
              "      <td>2</td>\n",
              "      <td>10.0</td>\n",
              "      <td>2</td>\n",
              "      <td>49200.0</td>\n",
              "      <td>1</td>\n",
              "      <td>8</td>\n",
              "      <td>4</td>\n",
              "      <td>20.00</td>\n",
              "      <td>35096</td>\n",
              "      <td>1</td>\n",
              "      <td>10</td>\n",
              "      <td>0</td>\n",
              "      <td>5598</td>\n",
              "      <td>21.0</td>\n",
              "      <td>37</td>\n",
              "      <td>0</td>\n",
              "      <td>0</td>\n",
              "      <td>12226.302210</td>\n",
              "      <td>12226.30</td>\n",
              "      <td>10000.00</td>\n",
              "      <td>2209.33</td>\n",
              "      <td>0</td>\n",
              "    </tr>\n",
              "    <tr>\n",
              "      <th>4</th>\n",
              "      <td>1075269</td>\n",
              "      <td>5000</td>\n",
              "      <td>5000</td>\n",
              "      <td>5000.0</td>\n",
              "      <td>0</td>\n",
              "      <td>7.90</td>\n",
              "      <td>156.46</td>\n",
              "      <td>0</td>\n",
              "      <td>3.0</td>\n",
              "      <td>2</td>\n",
              "      <td>36000.0</td>\n",
              "      <td>1</td>\n",
              "      <td>12</td>\n",
              "      <td>3</td>\n",
              "      <td>11.20</td>\n",
              "      <td>43043</td>\n",
              "      <td>3</td>\n",
              "      <td>9</td>\n",
              "      <td>0</td>\n",
              "      <td>7963</td>\n",
              "      <td>28.3</td>\n",
              "      <td>12</td>\n",
              "      <td>0</td>\n",
              "      <td>0</td>\n",
              "      <td>5631.377753</td>\n",
              "      <td>5631.38</td>\n",
              "      <td>5000.00</td>\n",
              "      <td>631.38</td>\n",
              "      <td>0</td>\n",
              "    </tr>\n",
              "  </tbody>\n",
              "</table>\n",
              "</div>"
            ],
            "text/plain": [
              "        id  loan_amnt  funded_amnt  ...  total_rec_prncp  total_rec_int  loan_status\n",
              "0  1077501       5000         5000  ...          5000.00         861.07            0\n",
              "1  1077430       2500         2500  ...           456.46         435.17            1\n",
              "2  1077175       2400         2400  ...          2400.00         603.65            0\n",
              "3  1076863      10000        10000  ...         10000.00        2209.33            0\n",
              "4  1075269       5000         5000  ...          5000.00         631.38            0\n",
              "\n",
              "[5 rows x 29 columns]"
            ]
          },
          "metadata": {},
          "execution_count": 84
        }
      ]
    },
    {
      "cell_type": "code",
      "metadata": {
        "colab": {
          "base_uri": "https://localhost:8080/",
          "height": 226
        },
        "id": "BRXxxRzrr7-c",
        "outputId": "60e45136-fcb2-4c6e-ccf4-391ab7940f6f"
      },
      "source": [
        "# deal with missing value\n",
        "df = df.select_dtypes(include=[np.number]).dropna()\n",
        "# drop high correlation colums\n",
        "features = [\"total_pymnt\", \"total_pymnt_inv\",\"total_rec_int\", \"id\", \"total_rec_prncp\"]\n",
        "df = df.drop(features, axis=1)\n",
        "df.head(5)"
      ],
      "execution_count": 85,
      "outputs": [
        {
          "output_type": "execute_result",
          "data": {
            "text/html": [
              "<div>\n",
              "<style scoped>\n",
              "    .dataframe tbody tr th:only-of-type {\n",
              "        vertical-align: middle;\n",
              "    }\n",
              "\n",
              "    .dataframe tbody tr th {\n",
              "        vertical-align: top;\n",
              "    }\n",
              "\n",
              "    .dataframe thead th {\n",
              "        text-align: right;\n",
              "    }\n",
              "</style>\n",
              "<table border=\"1\" class=\"dataframe\">\n",
              "  <thead>\n",
              "    <tr style=\"text-align: right;\">\n",
              "      <th></th>\n",
              "      <th>loan_amnt</th>\n",
              "      <th>funded_amnt</th>\n",
              "      <th>funded_amnt_inv</th>\n",
              "      <th>term</th>\n",
              "      <th>int_rate</th>\n",
              "      <th>installment</th>\n",
              "      <th>grade</th>\n",
              "      <th>emp_length</th>\n",
              "      <th>home_ownership</th>\n",
              "      <th>annual_inc</th>\n",
              "      <th>verification_status</th>\n",
              "      <th>purpose</th>\n",
              "      <th>addr_state</th>\n",
              "      <th>dti</th>\n",
              "      <th>earliest_cr_line</th>\n",
              "      <th>inq_last_6mths</th>\n",
              "      <th>open_acc</th>\n",
              "      <th>pub_rec</th>\n",
              "      <th>revol_bal</th>\n",
              "      <th>revol_util</th>\n",
              "      <th>total_acc</th>\n",
              "      <th>out_prncp</th>\n",
              "      <th>out_prncp_inv</th>\n",
              "      <th>loan_status</th>\n",
              "    </tr>\n",
              "  </thead>\n",
              "  <tbody>\n",
              "    <tr>\n",
              "      <th>0</th>\n",
              "      <td>5000</td>\n",
              "      <td>5000</td>\n",
              "      <td>4975.0</td>\n",
              "      <td>0</td>\n",
              "      <td>10.65</td>\n",
              "      <td>162.87</td>\n",
              "      <td>1</td>\n",
              "      <td>10.0</td>\n",
              "      <td>2</td>\n",
              "      <td>24000.0</td>\n",
              "      <td>2</td>\n",
              "      <td>1</td>\n",
              "      <td>3</td>\n",
              "      <td>27.65</td>\n",
              "      <td>31048</td>\n",
              "      <td>1</td>\n",
              "      <td>3</td>\n",
              "      <td>0</td>\n",
              "      <td>13648</td>\n",
              "      <td>83.7</td>\n",
              "      <td>9</td>\n",
              "      <td>0</td>\n",
              "      <td>0</td>\n",
              "      <td>0</td>\n",
              "    </tr>\n",
              "    <tr>\n",
              "      <th>1</th>\n",
              "      <td>2500</td>\n",
              "      <td>2500</td>\n",
              "      <td>2500.0</td>\n",
              "      <td>1</td>\n",
              "      <td>15.27</td>\n",
              "      <td>59.83</td>\n",
              "      <td>2</td>\n",
              "      <td>0.0</td>\n",
              "      <td>2</td>\n",
              "      <td>30000.0</td>\n",
              "      <td>1</td>\n",
              "      <td>0</td>\n",
              "      <td>10</td>\n",
              "      <td>1.00</td>\n",
              "      <td>36251</td>\n",
              "      <td>5</td>\n",
              "      <td>3</td>\n",
              "      <td>0</td>\n",
              "      <td>1687</td>\n",
              "      <td>9.4</td>\n",
              "      <td>4</td>\n",
              "      <td>0</td>\n",
              "      <td>0</td>\n",
              "      <td>1</td>\n",
              "    </tr>\n",
              "    <tr>\n",
              "      <th>2</th>\n",
              "      <td>2400</td>\n",
              "      <td>2400</td>\n",
              "      <td>2400.0</td>\n",
              "      <td>0</td>\n",
              "      <td>15.96</td>\n",
              "      <td>84.33</td>\n",
              "      <td>2</td>\n",
              "      <td>10.0</td>\n",
              "      <td>2</td>\n",
              "      <td>12252.0</td>\n",
              "      <td>0</td>\n",
              "      <td>10</td>\n",
              "      <td>12</td>\n",
              "      <td>8.72</td>\n",
              "      <td>43040</td>\n",
              "      <td>2</td>\n",
              "      <td>2</td>\n",
              "      <td>0</td>\n",
              "      <td>2956</td>\n",
              "      <td>98.5</td>\n",
              "      <td>10</td>\n",
              "      <td>0</td>\n",
              "      <td>0</td>\n",
              "      <td>0</td>\n",
              "    </tr>\n",
              "    <tr>\n",
              "      <th>3</th>\n",
              "      <td>10000</td>\n",
              "      <td>10000</td>\n",
              "      <td>10000.0</td>\n",
              "      <td>0</td>\n",
              "      <td>13.49</td>\n",
              "      <td>339.31</td>\n",
              "      <td>2</td>\n",
              "      <td>10.0</td>\n",
              "      <td>2</td>\n",
              "      <td>49200.0</td>\n",
              "      <td>1</td>\n",
              "      <td>8</td>\n",
              "      <td>4</td>\n",
              "      <td>20.00</td>\n",
              "      <td>35096</td>\n",
              "      <td>1</td>\n",
              "      <td>10</td>\n",
              "      <td>0</td>\n",
              "      <td>5598</td>\n",
              "      <td>21.0</td>\n",
              "      <td>37</td>\n",
              "      <td>0</td>\n",
              "      <td>0</td>\n",
              "      <td>0</td>\n",
              "    </tr>\n",
              "    <tr>\n",
              "      <th>4</th>\n",
              "      <td>5000</td>\n",
              "      <td>5000</td>\n",
              "      <td>5000.0</td>\n",
              "      <td>0</td>\n",
              "      <td>7.90</td>\n",
              "      <td>156.46</td>\n",
              "      <td>0</td>\n",
              "      <td>3.0</td>\n",
              "      <td>2</td>\n",
              "      <td>36000.0</td>\n",
              "      <td>1</td>\n",
              "      <td>12</td>\n",
              "      <td>3</td>\n",
              "      <td>11.20</td>\n",
              "      <td>43043</td>\n",
              "      <td>3</td>\n",
              "      <td>9</td>\n",
              "      <td>0</td>\n",
              "      <td>7963</td>\n",
              "      <td>28.3</td>\n",
              "      <td>12</td>\n",
              "      <td>0</td>\n",
              "      <td>0</td>\n",
              "      <td>0</td>\n",
              "    </tr>\n",
              "  </tbody>\n",
              "</table>\n",
              "</div>"
            ],
            "text/plain": [
              "   loan_amnt  funded_amnt  ...  out_prncp_inv  loan_status\n",
              "0       5000         5000  ...              0            0\n",
              "1       2500         2500  ...              0            1\n",
              "2       2400         2400  ...              0            0\n",
              "3      10000        10000  ...              0            0\n",
              "4       5000         5000  ...              0            0\n",
              "\n",
              "[5 rows x 24 columns]"
            ]
          },
          "metadata": {},
          "execution_count": 85
        }
      ]
    },
    {
      "cell_type": "markdown",
      "metadata": {
        "id": "tfjK-aMTyU_7"
      },
      "source": [
        "## 2.2 Data Split"
      ]
    },
    {
      "cell_type": "code",
      "metadata": {
        "id": "5kWNyWcgyZdg"
      },
      "source": [
        "from sklearn.model_selection import train_test_split\n",
        "y = df.loan_status\n",
        "X = df.drop(['loan_status'], axis = 1)\n",
        "\n",
        "# 20% for testing\n",
        "X_train, X_test, y_train, y_test = train_test_split(X, y, random_state = 0, test_size = .2)"
      ],
      "execution_count": 86,
      "outputs": []
    },
    {
      "cell_type": "markdown",
      "metadata": {
        "id": "8j_4dztMzTW2"
      },
      "source": [
        "## 2.3 Normalization"
      ]
    },
    {
      "cell_type": "code",
      "metadata": {
        "id": "g9B0CJqyzXTk"
      },
      "source": [
        "from sklearn.preprocessing import StandardScaler\n",
        "scaler = StandardScaler()\n",
        "scaler.fit(X_train)\n",
        "X_train = scaler.transform(X_train)\n",
        "X_test = scaler.transform(X_test)"
      ],
      "execution_count": 89,
      "outputs": []
    },
    {
      "cell_type": "markdown",
      "metadata": {
        "id": "2iyohb0F0DMX"
      },
      "source": [
        "# Part 3: Model Training"
      ]
    },
    {
      "cell_type": "markdown",
      "metadata": {
        "id": "3O3OLCaV0P9n"
      },
      "source": [
        "## 3.1 Random Forest, KNeighbours, and Logistic Regression"
      ]
    },
    {
      "cell_type": "code",
      "metadata": {
        "id": "z8Gq3Xw30L0A"
      },
      "source": [
        "from sklearn.ensemble import RandomForestClassifier\n",
        "from sklearn.neighbors import KNeighborsClassifier \n",
        "from sklearn.linear_model import LogisticRegression\n",
        "\n",
        "# Logistic Regression\n",
        "classifier_logistic = LogisticRegression()\n",
        "\n",
        "# K Nearest Neighbors\n",
        "classifier_KNN = KNeighborsClassifier()\n",
        "\n",
        "# Random Forest\n",
        "classifier_RF = RandomForestClassifier()"
      ],
      "execution_count": 90,
      "outputs": []
    },
    {
      "cell_type": "code",
      "metadata": {
        "colab": {
          "base_uri": "https://localhost:8080/"
        },
        "id": "mgZkbF-w2cY8",
        "outputId": "de9c971b-734e-431a-89b3-c569d7db21e9"
      },
      "source": [
        "from sklearn.metrics import classification_report, confusion_matrix\n",
        "classifier_logistic.fit(X_train, y_train)\n",
        "prediction_Regression = classifier_logistic.predict(X_test)\n",
        "print(classification_report(y_test,prediction_Regression))"
      ],
      "execution_count": 91,
      "outputs": [
        {
          "output_type": "stream",
          "name": "stdout",
          "text": [
            "              precision    recall  f1-score   support\n",
            "\n",
            "           0       0.85      0.99      0.91      1465\n",
            "           1       0.48      0.05      0.10       273\n",
            "\n",
            "    accuracy                           0.84      1738\n",
            "   macro avg       0.67      0.52      0.51      1738\n",
            "weighted avg       0.79      0.84      0.79      1738\n",
            "\n"
          ]
        }
      ]
    },
    {
      "cell_type": "code",
      "metadata": {
        "colab": {
          "base_uri": "https://localhost:8080/"
        },
        "id": "7NnOMBI43zh8",
        "outputId": "c5c5207f-d4ec-453f-dcc5-976d45d4cdd3"
      },
      "source": [
        "classifier_KNN.fit(X_train, y_train)\n",
        "prediction_KNN = classifier_KNN.predict(X_test)\n",
        "print(classification_report(y_test,prediction_KNN))"
      ],
      "execution_count": 92,
      "outputs": [
        {
          "output_type": "stream",
          "name": "stdout",
          "text": [
            "              precision    recall  f1-score   support\n",
            "\n",
            "           0       0.86      0.96      0.91      1465\n",
            "           1       0.38      0.13      0.19       273\n",
            "\n",
            "    accuracy                           0.83      1738\n",
            "   macro avg       0.62      0.54      0.55      1738\n",
            "weighted avg       0.78      0.83      0.79      1738\n",
            "\n"
          ]
        }
      ]
    },
    {
      "cell_type": "code",
      "metadata": {
        "colab": {
          "base_uri": "https://localhost:8080/"
        },
        "id": "PN1Y790v38Vn",
        "outputId": "8db38b30-fcd7-4d8e-82c6-88bec3a509c6"
      },
      "source": [
        "classifier_RF.fit(X_train, y_train)\n",
        "prediction_RF = classifier_RF.predict(X_test)\n",
        "print(classification_report(y_test,prediction_RF))"
      ],
      "execution_count": 93,
      "outputs": [
        {
          "output_type": "stream",
          "name": "stdout",
          "text": [
            "              precision    recall  f1-score   support\n",
            "\n",
            "           0       0.85      0.99      0.91      1465\n",
            "           1       0.50      0.04      0.08       273\n",
            "\n",
            "    accuracy                           0.84      1738\n",
            "   macro avg       0.67      0.52      0.50      1738\n",
            "weighted avg       0.79      0.84      0.78      1738\n",
            "\n"
          ]
        }
      ]
    },
    {
      "cell_type": "markdown",
      "metadata": {
        "id": "cpzCG4z39DcA"
      },
      "source": [
        "**Observation:**\n",
        "\n",
        "0 represents the clients who can fully pay the lending.\n",
        "Regarding the precision, it is around 0.85, which means that 85% out of those who are predicted to be fully-paid clients are real fully-paid clients.\n",
        "Rgarding the recall, around 99% out of the really fully-paid clients are correctly predicted.\n",
        "\n",
        "1 represents the default clients.\n",
        "The precision of around 45% (on average) indicates that 45% of the predicted default clients are real default clients.\n",
        "The recall of around 9% (on average) indicates that 9% of the real default clients are successfully predicted.\n"
      ]
    },
    {
      "cell_type": "markdown",
      "metadata": {
        "id": "KbxCwPRi_Zm4"
      },
      "source": [
        "## 3.2 Cross Validation"
      ]
    },
    {
      "cell_type": "code",
      "metadata": {
        "colab": {
          "base_uri": "https://localhost:8080/"
        },
        "id": "T5AT4xSh_ULd",
        "outputId": "537a0c0c-bfc0-40ce-c43a-c9c348770de0"
      },
      "source": [
        "# Use 5-fold Cross Validation to get the accuracy of different models\n",
        "from sklearn import model_selection\n",
        "model_names = ['Logistic Regression','KNN','Random Forest']\n",
        "model_list = [classifier_logistic, classifier_KNN, classifier_RF]\n",
        "count = 0\n",
        "for classifier in model_list:\n",
        "    cv_score = model_selection.cross_val_score(classifier, X_train, y_train, cv=5)\n",
        "    print(cv_score)\n",
        "    print('Model accuracy of ' + model_names[count] + ' is ' + str(cv_score.mean()))\n",
        "    count += 1"
      ],
      "execution_count": 94,
      "outputs": [
        {
          "output_type": "stream",
          "name": "stdout",
          "text": [
            "[0.8352518  0.8381295  0.83381295 0.83297336 0.8336933 ]\n",
            "Model accuracy of Logistic Regression is 0.8347721822541967\n",
            "[0.82158273 0.82517986 0.82302158 0.81065515 0.81713463]\n",
            "Model accuracy of KNN is 0.819514789895945\n",
            "[0.83165468 0.83165468 0.82661871 0.82937365 0.82361411]\n",
            "Model accuracy of Random Forest is 0.8285831637066158\n"
          ]
        }
      ]
    },
    {
      "cell_type": "markdown",
      "metadata": {
        "id": "ZmC-XOQD_3Xc"
      },
      "source": [
        "# Part 4: Feature Importance\n",
        "\n",
        "We use random forest to rank the importance of different features."
      ]
    },
    {
      "cell_type": "code",
      "metadata": {
        "colab": {
          "base_uri": "https://localhost:8080/"
        },
        "id": "ul_A7o8TAP5a",
        "outputId": "e18e57f3-5ffa-4b3c-ba5d-7c7d0b030a68"
      },
      "source": [
        "forest = RandomForestClassifier()\n",
        "forest.fit(X, y)\n",
        "importance = forest.feature_importances_\n",
        "indices = np.argsort(importance)[::-1]\n",
        "# print feature importance ranking\n",
        "print('Feature Importance from High to Low:')\n",
        "for idx in range(X.shape[1]):\n",
        "  print(\"{0} : {1}\".format(X.columns[indices[idx]], round(importance[indices[idx]], 4)))"
      ],
      "execution_count": 99,
      "outputs": [
        {
          "output_type": "stream",
          "name": "stdout",
          "text": [
            "Feature Importance from High to Low:\n",
            "annual_inc : 0.0766\n",
            "revol_util : 0.0752\n",
            "int_rate : 0.0734\n",
            "dti : 0.0722\n",
            "revol_bal : 0.0717\n",
            "earliest_cr_line : 0.0705\n",
            "installment : 0.061\n",
            "total_acc : 0.0592\n",
            "addr_state : 0.0518\n",
            "funded_amnt_inv : 0.0518\n",
            "open_acc : 0.046\n",
            "funded_amnt : 0.0442\n",
            "loan_amnt : 0.0434\n",
            "emp_length : 0.038\n",
            "term : 0.0346\n",
            "grade : 0.0343\n",
            "purpose : 0.0343\n",
            "inq_last_6mths : 0.0242\n",
            "verification_status : 0.0169\n",
            "home_ownership : 0.0145\n",
            "pub_rec : 0.0061\n",
            "out_prncp : 0.0\n",
            "out_prncp_inv : 0.0\n"
          ]
        }
      ]
    },
    {
      "cell_type": "markdown",
      "metadata": {
        "id": "XWD85RKwDcxp"
      },
      "source": [
        "# Part 5: Summary and Future Improvement\n",
        "\n",
        "In this project, we play with client data from Lending Club to predict whether a client will default or not.\n",
        "We first explicitly show how to explore and understand the dataset, and then clean the data for the model building in the next step.\n",
        "\n",
        "Our different models have an accuracy of around 82%. Fully-paid clients are well predicted with a recall of around 99%.\n",
        "However, only 9% (recall) of the default clients are successfully detected by the model. We believe that this can be further improved by selecting features and use other advanced model such as a neural network.  "
      ]
    }
  ]
}