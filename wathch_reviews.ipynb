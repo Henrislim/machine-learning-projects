{
  "nbformat": 4,
  "nbformat_minor": 0,
  "metadata": {
    "colab": {
      "name": "wathch_reviews.ipynb",
      "provenance": [],
      "collapsed_sections": [],
      "authorship_tag": "ABX9TyN/+z3TMk9Wr6WNvYPQPnxG",
      "include_colab_link": true
    },
    "kernelspec": {
      "name": "python3",
      "display_name": "Python 3"
    },
    "language_info": {
      "name": "python"
    }
  },
  "cells": [
    {
      "cell_type": "markdown",
      "metadata": {
        "id": "view-in-github",
        "colab_type": "text"
      },
      "source": [
        "<a href=\"https://colab.research.google.com/github/Henrislim/machine-learning-projects/blob/main/wathch_reviews.ipynb\" target=\"_parent\"><img src=\"https://colab.research.google.com/assets/colab-badge.svg\" alt=\"Open In Colab\"/></a>"
      ]
    },
    {
      "cell_type": "markdown",
      "metadata": {
        "id": "hlWrs-mH5VUL"
      },
      "source": [
        "# Document Clustering and Topic Modeling "
      ]
    },
    {
      "cell_type": "markdown",
      "metadata": {
        "id": "GVGP3oH_5bWu"
      },
      "source": [
        "**Brief Introduction**\n",
        "In this project, we use unsupervised learning models to cluster unlabeled documents into different groups, visualize the results and identify their latent topics/structures.\n",
        "\n",
        "Contents:\n",
        "\n",
        "* Part 0: Set Environment\n",
        "* Part 1: Load Data\n",
        "* Part 2: Tokenizing and Stemming\n",
        "* Part 3: TF-IDF\n",
        "* Part 4: K-means clustering\n",
        "* Part 5: Topic Modeling - Latent Dirichlet Allocation"
      ]
    },
    {
      "cell_type": "markdown",
      "metadata": {
        "id": "Vje1Iw9Z5-uh"
      },
      "source": [
        "# Part 0: Setup Google Drive Environment"
      ]
    },
    {
      "cell_type": "code",
      "metadata": {
        "id": "5okjqXdU7NEt"
      },
      "source": [
        "!pip install -U -q PyDrive\n",
        "\n",
        "from pydrive.auth import GoogleAuth\n",
        "from pydrive.drive import GoogleDrive\n",
        "from google.colab import auth\n",
        "from oauth2client.client import GoogleCredentials\n",
        "\n",
        "auth.authenticate_user()\n",
        "gauth = GoogleAuth()\n",
        "gauth.credentials = GoogleCredentials.get_application_default()\n",
        "drive = GoogleDrive(gauth)"
      ],
      "execution_count": 1,
      "outputs": []
    },
    {
      "cell_type": "code",
      "metadata": {
        "id": "oHGHCSpJ7Q2E"
      },
      "source": [
        "#https://drive.google.com/file/d/1s99b5gaWmn-gxltLuMGifMy_sCzHtkjU/view?usp=sharing\n",
        "file = drive.CreateFile({'id':'1s99b5gaWmn-gxltLuMGifMy_sCzHtkjU'}) # replace the id with id of file you want to access\n",
        "file.GetContentFile('watch_reviews.tsv')  # tab-separated"
      ],
      "execution_count": 2,
      "outputs": []
    },
    {
      "cell_type": "markdown",
      "metadata": {
        "id": "sH7m0ywa7zD1"
      },
      "source": [
        "# Part 1: Load Data"
      ]
    },
    {
      "cell_type": "code",
      "metadata": {
        "colab": {
          "base_uri": "https://localhost:8080/"
        },
        "id": "rds9_l9U70D3",
        "outputId": "835562f6-bbcc-4e5f-f246-7144f71d1c62"
      },
      "source": [
        "import numpy as np\n",
        "import pandas as pd\n",
        "import nltk\n",
        "# import gensim\n",
        "\n",
        "from sklearn.feature_extraction.text import TfidfVectorizer\n",
        "import matplotlib.pyplot as plt\n",
        "\n",
        "nltk.download('punkt')\n",
        "nltk.download('stopwords')"
      ],
      "execution_count": 18,
      "outputs": [
        {
          "output_type": "stream",
          "name": "stdout",
          "text": [
            "[nltk_data] Downloading package punkt to /root/nltk_data...\n",
            "[nltk_data]   Package punkt is already up-to-date!\n",
            "[nltk_data] Downloading package stopwords to /root/nltk_data...\n",
            "[nltk_data]   Package stopwords is already up-to-date!\n"
          ]
        },
        {
          "output_type": "execute_result",
          "data": {
            "text/plain": [
              "True"
            ]
          },
          "metadata": {},
          "execution_count": 18
        }
      ]
    },
    {
      "cell_type": "code",
      "metadata": {
        "colab": {
          "base_uri": "https://localhost:8080/"
        },
        "id": "MttCadIQ8hj1",
        "outputId": "1ae72c2e-6a82-4581-f230-bc7f751f30fc"
      },
      "source": [
        "# Load data into dataframe\n",
        "df = pd.read_csv('watch_reviews.tsv', sep='\\t', error_bad_lines=False)"
      ],
      "execution_count": 19,
      "outputs": [
        {
          "output_type": "stream",
          "name": "stderr",
          "text": [
            "b'Skipping line 8704: expected 15 fields, saw 22\\nSkipping line 16933: expected 15 fields, saw 22\\nSkipping line 23726: expected 15 fields, saw 22\\n'\n",
            "b'Skipping line 85637: expected 15 fields, saw 22\\n'\n",
            "b'Skipping line 132136: expected 15 fields, saw 22\\nSkipping line 158070: expected 15 fields, saw 22\\nSkipping line 166007: expected 15 fields, saw 22\\nSkipping line 171877: expected 15 fields, saw 22\\nSkipping line 177756: expected 15 fields, saw 22\\nSkipping line 181773: expected 15 fields, saw 22\\nSkipping line 191085: expected 15 fields, saw 22\\nSkipping line 196273: expected 15 fields, saw 22\\nSkipping line 196331: expected 15 fields, saw 22\\n'\n",
            "b'Skipping line 197000: expected 15 fields, saw 22\\nSkipping line 197011: expected 15 fields, saw 22\\nSkipping line 197432: expected 15 fields, saw 22\\nSkipping line 208016: expected 15 fields, saw 22\\nSkipping line 214110: expected 15 fields, saw 22\\nSkipping line 244328: expected 15 fields, saw 22\\nSkipping line 248519: expected 15 fields, saw 22\\nSkipping line 254936: expected 15 fields, saw 22\\n'\n",
            "b'Skipping line 272057: expected 15 fields, saw 22\\nSkipping line 293214: expected 15 fields, saw 22\\nSkipping line 310507: expected 15 fields, saw 22\\nSkipping line 312306: expected 15 fields, saw 22\\nSkipping line 316296: expected 15 fields, saw 22\\n'\n",
            "b'Skipping line 336028: expected 15 fields, saw 22\\nSkipping line 344885: expected 15 fields, saw 22\\nSkipping line 352551: expected 15 fields, saw 22\\n'\n",
            "b'Skipping line 408773: expected 15 fields, saw 22\\nSkipping line 434535: expected 15 fields, saw 22\\n'\n",
            "b'Skipping line 581593: expected 15 fields, saw 22\\n'\n",
            "b'Skipping line 652409: expected 15 fields, saw 22\\n'\n"
          ]
        }
      ]
    },
    {
      "cell_type": "code",
      "metadata": {
        "colab": {
          "base_uri": "https://localhost:8080/",
          "height": 547
        },
        "id": "yyh3m4RP9Bzu",
        "outputId": "26439b49-b3d0-426d-fb02-2d27882037b2"
      },
      "source": [
        "df.head()"
      ],
      "execution_count": 20,
      "outputs": [
        {
          "output_type": "execute_result",
          "data": {
            "text/html": [
              "<div>\n",
              "<style scoped>\n",
              "    .dataframe tbody tr th:only-of-type {\n",
              "        vertical-align: middle;\n",
              "    }\n",
              "\n",
              "    .dataframe tbody tr th {\n",
              "        vertical-align: top;\n",
              "    }\n",
              "\n",
              "    .dataframe thead th {\n",
              "        text-align: right;\n",
              "    }\n",
              "</style>\n",
              "<table border=\"1\" class=\"dataframe\">\n",
              "  <thead>\n",
              "    <tr style=\"text-align: right;\">\n",
              "      <th></th>\n",
              "      <th>marketplace</th>\n",
              "      <th>customer_id</th>\n",
              "      <th>review_id</th>\n",
              "      <th>product_id</th>\n",
              "      <th>product_parent</th>\n",
              "      <th>product_title</th>\n",
              "      <th>product_category</th>\n",
              "      <th>star_rating</th>\n",
              "      <th>helpful_votes</th>\n",
              "      <th>total_votes</th>\n",
              "      <th>vine</th>\n",
              "      <th>verified_purchase</th>\n",
              "      <th>review_headline</th>\n",
              "      <th>review_body</th>\n",
              "      <th>review_date</th>\n",
              "    </tr>\n",
              "  </thead>\n",
              "  <tbody>\n",
              "    <tr>\n",
              "      <th>0</th>\n",
              "      <td>US</td>\n",
              "      <td>3653882</td>\n",
              "      <td>R3O9SGZBVQBV76</td>\n",
              "      <td>B00FALQ1ZC</td>\n",
              "      <td>937001370</td>\n",
              "      <td>Invicta Women's 15150 \"Angel\" 18k Yellow Gold ...</td>\n",
              "      <td>Watches</td>\n",
              "      <td>5</td>\n",
              "      <td>0</td>\n",
              "      <td>0</td>\n",
              "      <td>N</td>\n",
              "      <td>Y</td>\n",
              "      <td>Five Stars</td>\n",
              "      <td>Absolutely love this watch! Get compliments al...</td>\n",
              "      <td>2015-08-31</td>\n",
              "    </tr>\n",
              "    <tr>\n",
              "      <th>1</th>\n",
              "      <td>US</td>\n",
              "      <td>14661224</td>\n",
              "      <td>RKH8BNC3L5DLF</td>\n",
              "      <td>B00D3RGO20</td>\n",
              "      <td>484010722</td>\n",
              "      <td>Kenneth Cole New York Women's KC4944 Automatic...</td>\n",
              "      <td>Watches</td>\n",
              "      <td>5</td>\n",
              "      <td>0</td>\n",
              "      <td>0</td>\n",
              "      <td>N</td>\n",
              "      <td>Y</td>\n",
              "      <td>I love thiswatch it keeps time wonderfully</td>\n",
              "      <td>I love this watch it keeps time wonderfully.</td>\n",
              "      <td>2015-08-31</td>\n",
              "    </tr>\n",
              "    <tr>\n",
              "      <th>2</th>\n",
              "      <td>US</td>\n",
              "      <td>27324930</td>\n",
              "      <td>R2HLE8WKZSU3NL</td>\n",
              "      <td>B00DKYC7TK</td>\n",
              "      <td>361166390</td>\n",
              "      <td>Ritche 22mm Black Stainless Steel Bracelet Wat...</td>\n",
              "      <td>Watches</td>\n",
              "      <td>2</td>\n",
              "      <td>1</td>\n",
              "      <td>1</td>\n",
              "      <td>N</td>\n",
              "      <td>Y</td>\n",
              "      <td>Two Stars</td>\n",
              "      <td>Scratches</td>\n",
              "      <td>2015-08-31</td>\n",
              "    </tr>\n",
              "    <tr>\n",
              "      <th>3</th>\n",
              "      <td>US</td>\n",
              "      <td>7211452</td>\n",
              "      <td>R31U3UH5AZ42LL</td>\n",
              "      <td>B000EQS1JW</td>\n",
              "      <td>958035625</td>\n",
              "      <td>Citizen Men's BM8180-03E Eco-Drive Stainless S...</td>\n",
              "      <td>Watches</td>\n",
              "      <td>5</td>\n",
              "      <td>0</td>\n",
              "      <td>0</td>\n",
              "      <td>N</td>\n",
              "      <td>Y</td>\n",
              "      <td>Five Stars</td>\n",
              "      <td>It works well on me. However, I found cheaper ...</td>\n",
              "      <td>2015-08-31</td>\n",
              "    </tr>\n",
              "    <tr>\n",
              "      <th>4</th>\n",
              "      <td>US</td>\n",
              "      <td>12733322</td>\n",
              "      <td>R2SV659OUJ945Y</td>\n",
              "      <td>B00A6GFD7S</td>\n",
              "      <td>765328221</td>\n",
              "      <td>Orient ER27009B Men's Symphony Automatic Stain...</td>\n",
              "      <td>Watches</td>\n",
              "      <td>4</td>\n",
              "      <td>0</td>\n",
              "      <td>0</td>\n",
              "      <td>N</td>\n",
              "      <td>Y</td>\n",
              "      <td>Beautiful face, but cheap sounding links</td>\n",
              "      <td>Beautiful watch face.  The band looks nice all...</td>\n",
              "      <td>2015-08-31</td>\n",
              "    </tr>\n",
              "  </tbody>\n",
              "</table>\n",
              "</div>"
            ],
            "text/plain": [
              "  marketplace  ...  review_date\n",
              "0          US  ...   2015-08-31\n",
              "1          US  ...   2015-08-31\n",
              "2          US  ...   2015-08-31\n",
              "3          US  ...   2015-08-31\n",
              "4          US  ...   2015-08-31\n",
              "\n",
              "[5 rows x 15 columns]"
            ]
          },
          "metadata": {},
          "execution_count": 20
        }
      ]
    },
    {
      "cell_type": "code",
      "metadata": {
        "colab": {
          "base_uri": "https://localhost:8080/"
        },
        "id": "WSYynmel9LQ6",
        "outputId": "85360a21-fef8-4d03-a80c-c3d69587c966"
      },
      "source": [
        "# Remove missing value\n",
        "df.dropna(subset=['review_body'],inplace=True)\n",
        "df.reset_index(inplace=True, drop=True)\n",
        "df.info()"
      ],
      "execution_count": 21,
      "outputs": [
        {
          "output_type": "stream",
          "name": "stdout",
          "text": [
            "<class 'pandas.core.frame.DataFrame'>\n",
            "RangeIndex: 960056 entries, 0 to 960055\n",
            "Data columns (total 15 columns):\n",
            " #   Column             Non-Null Count   Dtype \n",
            "---  ------             --------------   ----- \n",
            " 0   marketplace        960056 non-null  object\n",
            " 1   customer_id        960056 non-null  int64 \n",
            " 2   review_id          960056 non-null  object\n",
            " 3   product_id         960056 non-null  object\n",
            " 4   product_parent     960056 non-null  int64 \n",
            " 5   product_title      960054 non-null  object\n",
            " 6   product_category   960056 non-null  object\n",
            " 7   star_rating        960056 non-null  int64 \n",
            " 8   helpful_votes      960056 non-null  int64 \n",
            " 9   total_votes        960056 non-null  int64 \n",
            " 10  vine               960056 non-null  object\n",
            " 11  verified_purchase  960056 non-null  object\n",
            " 12  review_headline    960049 non-null  object\n",
            " 13  review_body        960056 non-null  object\n",
            " 14  review_date        960052 non-null  object\n",
            "dtypes: int64(5), object(10)\n",
            "memory usage: 109.9+ MB\n"
          ]
        }
      ]
    },
    {
      "cell_type": "code",
      "metadata": {
        "id": "6l4St4-J9a-R"
      },
      "source": [
        "# use the first 10000 data as our training data\n",
        "data = df.loc[:9999, 'review_body'].tolist()"
      ],
      "execution_count": 22,
      "outputs": []
    },
    {
      "cell_type": "markdown",
      "metadata": {
        "id": "yOuSWpIX9l4-"
      },
      "source": [
        "# Part 2: Tokenizing and Stemming"
      ]
    },
    {
      "cell_type": "markdown",
      "metadata": {
        "id": "EFriZelO-Auy"
      },
      "source": [
        "Load stopwords and stemmer function from NLTK library.\n",
        "\n",
        "Stop words are words like \"a\", \"the\", or \"in\" which don't convey significant meaning.\n",
        "\n",
        "Stemming is the process of breaking a word down into its root."
      ]
    },
    {
      "cell_type": "code",
      "metadata": {
        "colab": {
          "base_uri": "https://localhost:8080/"
        },
        "id": "VDbfIqaE-Ds-",
        "outputId": "cb587619-927c-4f57-b3c5-411324337268"
      },
      "source": [
        "# Use nltk's English stopwords.\n",
        "stopwords = nltk.corpus.stopwords.words('english') #stopwords.append(\"n't\")\n",
        "stopwords.append(\"'s\")\n",
        "stopwords.append(\"'m\")\n",
        "stopwords.append(\"br\") #html <br>\n",
        "stopwords.append(\"watch\")\n",
        "\n",
        "print (\"We use \" + str(len(stopwords)) + \" stop-words from nltk library.\")\n",
        "print (stopwords[:10])"
      ],
      "execution_count": 23,
      "outputs": [
        {
          "output_type": "stream",
          "name": "stdout",
          "text": [
            "We use 183 stop-words from nltk library.\n",
            "['i', 'me', 'my', 'myself', 'we', 'our', 'ours', 'ourselves', 'you', \"you're\"]\n"
          ]
        }
      ]
    },
    {
      "cell_type": "code",
      "metadata": {
        "id": "uWPRYknp-OaZ"
      },
      "source": [
        "# use our defined functions to analyze (i.e. tokenize, stem) our reviews.\n",
        "from nltk.stem.snowball import SnowballStemmer\n",
        "# from nltk.stem import WordNetLemmatizer \n",
        "\n",
        "stemmer = SnowballStemmer(\"english\")\n",
        "\n",
        "# tokenization and stemming\n",
        "def tokenization_and_stemming(text):\n",
        "    tokens = []\n",
        "    # exclude stop words and tokenize the document, generate a list of string \n",
        "    for word in nltk.word_tokenize(text):\n",
        "        if word.lower() not in stopwords:\n",
        "            tokens.append(word.lower())\n",
        "\n",
        "    filtered_tokens = []\n",
        "    \n",
        "    # filter out any tokens not containing letters (e.g., numeric tokens, raw punctuation)\n",
        "    for token in tokens:\n",
        "        if token.isalpha():\n",
        "            filtered_tokens.append(token)\n",
        "            \n",
        "    # stemming\n",
        "    stems = [stemmer.stem(t) for t in filtered_tokens]\n",
        "    return stems"
      ],
      "execution_count": 24,
      "outputs": []
    },
    {
      "cell_type": "markdown",
      "metadata": {
        "id": "wQ-U4sKK_R3z"
      },
      "source": [
        "# Part 3: TF-IDF\n",
        "\n",
        "TF: Term Frequency\n",
        "\n",
        "IDF: Inverse Document Frequency"
      ]
    },
    {
      "cell_type": "code",
      "metadata": {
        "colab": {
          "base_uri": "https://localhost:8080/"
        },
        "id": "VDYC4Aw4_QKe",
        "outputId": "0e0ca008-b187-4742-a644-5a2b29c92cb1"
      },
      "source": [
        "from sklearn.feature_extraction.text import TfidfVectorizer\n",
        "# define vectorizer parameters\n",
        "# TfidfVectorizer will help us to create tf-idf matrix\n",
        "# max_df : maximum document frequency for the given word\n",
        "# min_df : minimum document frequency for the given word\n",
        "# max_features: maximum number of words\n",
        "# use_idf: if not true, we only calculate tf\n",
        "# stop_words : built-in stop words\n",
        "# tokenizer: how to tokenize the document\n",
        "# ngram_range: (min_value, max_value), eg. (1, 3) means the result will include 1-gram, 2-gram, 3-gram\n",
        "tfidf_model = TfidfVectorizer(max_df=0.99, max_features=3000,\n",
        "                                 min_df=0.01, stop_words='english',\n",
        "                                 use_idf=True, tokenizer=tokenization_and_stemming, ngram_range=(1,1))\n",
        "\n",
        "tfidf_matrix = tfidf_model.fit_transform(data) #fit the vectorizer to synopses\n",
        "\n",
        "print (\"In total, there are \" + str(tfidf_matrix.shape[0]) + \\\n",
        "      \" reviews and \" + str(tfidf_matrix.shape[1]) + \" terms.\")"
      ],
      "execution_count": 25,
      "outputs": [
        {
          "output_type": "stream",
          "name": "stderr",
          "text": [
            "/usr/local/lib/python3.7/dist-packages/sklearn/feature_extraction/text.py:385: UserWarning: Your stop_words may be inconsistent with your preprocessing. Tokenizing the stop words generated tokens ['afterward', 'alon', 'alreadi', 'alway', 'anoth', 'anyon', 'anyth', 'anywher', 'becam', 'becom', 'besid', 'cri', 'describ', 'els', 'elsewher', 'empti', 'everi', 'everyon', 'everyth', 'everywher', 'fifti', 'forti', 'henc', 'hereaft', 'herebi', 'howev', 'hundr', 'inde', 'mani', 'meanwhil', 'moreov', 'nobodi', 'noon', 'noth', 'nowher', 'otherwis', 'perhap', 'pleas', 'sever', 'sinc', 'sincer', 'sixti', 'someon', 'someth', 'sometim', 'somewher', 'thenc', 'thereaft', 'therebi', 'therefor', 'togeth', 'twelv', 'twenti', 'whatev', 'whenc', 'whenev', 'wherea', 'whereaft', 'wherebi', 'wherev'] not in stop_words.\n",
            "  'stop_words.' % sorted(inconsistent))\n"
          ]
        },
        {
          "output_type": "stream",
          "name": "stdout",
          "text": [
            "In total, there are 10000 reviews and 222 terms.\n"
          ]
        }
      ]
    },
    {
      "cell_type": "code",
      "metadata": {
        "colab": {
          "base_uri": "https://localhost:8080/"
        },
        "id": "8HzQUb4fBIjT",
        "outputId": "3c248c1a-c117-4384-aaab-dd6827df446d"
      },
      "source": [
        "#Save the terms identified by TF-IDF.\n",
        "# words\n",
        "tf_selected_words = tfidf_model.get_feature_names()\n",
        "# print out words\n",
        "tf_selected_words[0:10]"
      ],
      "execution_count": 26,
      "outputs": [
        {
          "output_type": "execute_result",
          "data": {
            "text/plain": [
              "['abl',\n",
              " 'absolut',\n",
              " 'accur',\n",
              " 'actual',\n",
              " 'adjust',\n",
              " 'alarm',\n",
              " 'alreadi',\n",
              " 'alway',\n",
              " 'amaz',\n",
              " 'amazon']"
            ]
          },
          "metadata": {},
          "execution_count": 26
        }
      ]
    },
    {
      "cell_type": "markdown",
      "metadata": {
        "id": "zp71Al9uBZbU"
      },
      "source": [
        "# Part 4: K-means clustering"
      ]
    },
    {
      "cell_type": "code",
      "metadata": {
        "id": "98oWN0MXBe3Z"
      },
      "source": [
        "# k-means clustering\n",
        "from sklearn.cluster import KMeans\n",
        "\n",
        "num_clusters = 5\n",
        "\n",
        "# number of clusters\n",
        "km = KMeans(n_clusters=num_clusters)\n",
        "km.fit(tfidf_matrix)\n",
        "\n",
        "clusters = km.labels_.tolist()"
      ],
      "execution_count": 27,
      "outputs": []
    },
    {
      "cell_type": "markdown",
      "metadata": {
        "id": "MMFfRz9PB_8m"
      },
      "source": [
        "## 4.1. Analyze K-means Result"
      ]
    },
    {
      "cell_type": "code",
      "metadata": {
        "colab": {
          "base_uri": "https://localhost:8080/",
          "height": 359
        },
        "id": "77LPOhHmCBpi",
        "outputId": "f641189f-7d67-40d9-b5e6-1953ab3ddf0f"
      },
      "source": [
        "# create DataFrame films from all of the input files.\n",
        "product = { 'review': df[:10000].review_body, 'cluster': clusters}\n",
        "frame = pd.DataFrame(product, columns = ['review', 'cluster'])\n",
        "frame.head(10)"
      ],
      "execution_count": 28,
      "outputs": [
        {
          "output_type": "execute_result",
          "data": {
            "text/html": [
              "<div>\n",
              "<style scoped>\n",
              "    .dataframe tbody tr th:only-of-type {\n",
              "        vertical-align: middle;\n",
              "    }\n",
              "\n",
              "    .dataframe tbody tr th {\n",
              "        vertical-align: top;\n",
              "    }\n",
              "\n",
              "    .dataframe thead th {\n",
              "        text-align: right;\n",
              "    }\n",
              "</style>\n",
              "<table border=\"1\" class=\"dataframe\">\n",
              "  <thead>\n",
              "    <tr style=\"text-align: right;\">\n",
              "      <th></th>\n",
              "      <th>review</th>\n",
              "      <th>cluster</th>\n",
              "    </tr>\n",
              "  </thead>\n",
              "  <tbody>\n",
              "    <tr>\n",
              "      <th>0</th>\n",
              "      <td>Absolutely love this watch! Get compliments al...</td>\n",
              "      <td>1</td>\n",
              "    </tr>\n",
              "    <tr>\n",
              "      <th>1</th>\n",
              "      <td>I love this watch it keeps time wonderfully.</td>\n",
              "      <td>4</td>\n",
              "    </tr>\n",
              "    <tr>\n",
              "      <th>2</th>\n",
              "      <td>Scratches</td>\n",
              "      <td>1</td>\n",
              "    </tr>\n",
              "    <tr>\n",
              "      <th>3</th>\n",
              "      <td>It works well on me. However, I found cheaper ...</td>\n",
              "      <td>1</td>\n",
              "    </tr>\n",
              "    <tr>\n",
              "      <th>4</th>\n",
              "      <td>Beautiful watch face.  The band looks nice all...</td>\n",
              "      <td>1</td>\n",
              "    </tr>\n",
              "    <tr>\n",
              "      <th>5</th>\n",
              "      <td>i love this watch for my purpose, about the pe...</td>\n",
              "      <td>1</td>\n",
              "    </tr>\n",
              "    <tr>\n",
              "      <th>6</th>\n",
              "      <td>for my wife and she loved it, looks great and ...</td>\n",
              "      <td>0</td>\n",
              "    </tr>\n",
              "    <tr>\n",
              "      <th>7</th>\n",
              "      <td>I was about to buy this thinking it was a Swis...</td>\n",
              "      <td>1</td>\n",
              "    </tr>\n",
              "    <tr>\n",
              "      <th>8</th>\n",
              "      <td>Watch is perfect. Rugged with the metal &amp;#34;B...</td>\n",
              "      <td>0</td>\n",
              "    </tr>\n",
              "    <tr>\n",
              "      <th>9</th>\n",
              "      <td>Great quality and build.&lt;br /&gt;The motors are r...</td>\n",
              "      <td>1</td>\n",
              "    </tr>\n",
              "  </tbody>\n",
              "</table>\n",
              "</div>"
            ],
            "text/plain": [
              "                                              review  cluster\n",
              "0  Absolutely love this watch! Get compliments al...        1\n",
              "1       I love this watch it keeps time wonderfully.        4\n",
              "2                                          Scratches        1\n",
              "3  It works well on me. However, I found cheaper ...        1\n",
              "4  Beautiful watch face.  The band looks nice all...        1\n",
              "5  i love this watch for my purpose, about the pe...        1\n",
              "6  for my wife and she loved it, looks great and ...        0\n",
              "7  I was about to buy this thinking it was a Swis...        1\n",
              "8  Watch is perfect. Rugged with the metal &#34;B...        0\n",
              "9  Great quality and build.<br />The motors are r...        1"
            ]
          },
          "metadata": {},
          "execution_count": 28
        }
      ]
    },
    {
      "cell_type": "code",
      "metadata": {
        "colab": {
          "base_uri": "https://localhost:8080/",
          "height": 221
        },
        "id": "4IfjlwCmCZmO",
        "outputId": "692b2862-4f7d-40eb-9e19-fde9d8cfa409"
      },
      "source": [
        "print (\"Number of reviews included in each cluster:\")\n",
        "frame['cluster'].value_counts().to_frame()"
      ],
      "execution_count": 29,
      "outputs": [
        {
          "output_type": "stream",
          "name": "stdout",
          "text": [
            "Number of reviews included in each cluster:\n"
          ]
        },
        {
          "output_type": "execute_result",
          "data": {
            "text/html": [
              "<div>\n",
              "<style scoped>\n",
              "    .dataframe tbody tr th:only-of-type {\n",
              "        vertical-align: middle;\n",
              "    }\n",
              "\n",
              "    .dataframe tbody tr th {\n",
              "        vertical-align: top;\n",
              "    }\n",
              "\n",
              "    .dataframe thead th {\n",
              "        text-align: right;\n",
              "    }\n",
              "</style>\n",
              "<table border=\"1\" class=\"dataframe\">\n",
              "  <thead>\n",
              "    <tr style=\"text-align: right;\">\n",
              "      <th></th>\n",
              "      <th>cluster</th>\n",
              "    </tr>\n",
              "  </thead>\n",
              "  <tbody>\n",
              "    <tr>\n",
              "      <th>1</th>\n",
              "      <td>6899</td>\n",
              "    </tr>\n",
              "    <tr>\n",
              "      <th>0</th>\n",
              "      <td>1108</td>\n",
              "    </tr>\n",
              "    <tr>\n",
              "      <th>4</th>\n",
              "      <td>808</td>\n",
              "    </tr>\n",
              "    <tr>\n",
              "      <th>2</th>\n",
              "      <td>634</td>\n",
              "    </tr>\n",
              "    <tr>\n",
              "      <th>3</th>\n",
              "      <td>551</td>\n",
              "    </tr>\n",
              "  </tbody>\n",
              "</table>\n",
              "</div>"
            ],
            "text/plain": [
              "   cluster\n",
              "1     6899\n",
              "0     1108\n",
              "4      808\n",
              "2      634\n",
              "3      551"
            ]
          },
          "metadata": {},
          "execution_count": 29
        }
      ]
    },
    {
      "cell_type": "code",
      "metadata": {
        "colab": {
          "base_uri": "https://localhost:8080/"
        },
        "id": "eqvmxbYQDJyW",
        "outputId": "e294646b-8465-4ee4-fe03-cd75d81d8d86"
      },
      "source": [
        "km.cluster_centers_"
      ],
      "execution_count": 30,
      "outputs": [
        {
          "output_type": "execute_result",
          "data": {
            "text/plain": [
              "array([[0.00139959, 0.00384064, 0.00558391, ..., 0.00546538, 0.0088299 ,\n",
              "        0.01227755],\n",
              "       [0.00551117, 0.00577883, 0.00643945, ..., 0.00940257, 0.02506315,\n",
              "        0.01667115],\n",
              "       [0.        , 0.        , 0.00170727, ..., 0.00323498, 0.00411007,\n",
              "        0.00166219],\n",
              "       [0.        , 0.        , 0.00091413, ..., 0.00125781, 0.0075891 ,\n",
              "        0.00094289],\n",
              "       [0.00096511, 0.02076273, 0.00077358, ..., 0.00077296, 0.00555338,\n",
              "        0.00513697]])"
            ]
          },
          "metadata": {},
          "execution_count": 30
        }
      ]
    },
    {
      "cell_type": "code",
      "metadata": {
        "colab": {
          "base_uri": "https://localhost:8080/"
        },
        "id": "V02hx3SvDNNc",
        "outputId": "46d446fd-d31f-470a-bda5-dfb4c0db708f"
      },
      "source": [
        "km.cluster_centers_.shape"
      ],
      "execution_count": 31,
      "outputs": [
        {
          "output_type": "execute_result",
          "data": {
            "text/plain": [
              "(5, 222)"
            ]
          },
          "metadata": {},
          "execution_count": 31
        }
      ]
    },
    {
      "cell_type": "code",
      "metadata": {
        "colab": {
          "base_uri": "https://localhost:8080/"
        },
        "id": "JPxGTq4ODIxe",
        "outputId": "459945e5-4658-4b3e-e5eb-1bf1e6ee747c"
      },
      "source": [
        "print (\"<Document clustering result by K-means>\")\n",
        "\n",
        "#km.cluster_centers_ denotes the importances of each items in centroid.\n",
        "#We need to sort it in decreasing-order and get the top k items.\n",
        "order_centroids = km.cluster_centers_.argsort()[:, ::-1] \n",
        "\n",
        "Cluster_keywords_summary = {}\n",
        "for i in range(num_clusters):\n",
        "    print (\"Cluster \" + str(i) + \" words:\", end='')\n",
        "    Cluster_keywords_summary[i] = []\n",
        "    for ind in order_centroids[i, :6]: #replace 6 with n words per cluster\n",
        "        Cluster_keywords_summary[i].append(tf_selected_words[ind])\n",
        "        print (tf_selected_words[ind] + \",\", end='')\n",
        "    print ()\n",
        "    \n",
        "    cluster_reviews = frame[frame.cluster==i].review.tolist()\n",
        "    print (\"Cluster \" + str(i) + \" reviews (\" + str(len(cluster_reviews)) + \" reviews): \")\n",
        "    print (\", \".join(cluster_reviews[0:2]))\n",
        "    print ()"
      ],
      "execution_count": 42,
      "outputs": [
        {
          "output_type": "stream",
          "name": "stdout",
          "text": [
            "<Document clustering result by K-means>\n",
            "Cluster 0 words:great,look,price,work,product,love,\n",
            "Cluster 0 reviews (1108 reviews): \n",
            "for my wife and she loved it, looks great and a great price!, Watch is perfect. Rugged with the metal &#34;Bull Bars&#34;. The red accents are a great touch and I get compliments when wearing it. If you are worried about being able to read this in sunlight or in the dark don't! The LED ilumination works great! I might even get this in a different color for my next G-Shock purchase!\n",
            "\n",
            "Cluster 1 words:look,like,time,band,work,beauti,\n",
            "Cluster 1 reviews (6899 reviews): \n",
            "Absolutely love this watch! Get compliments almost every time I wear it. Dainty., Scratches\n",
            "\n",
            "Cluster 2 words:good,product,look,price,qualiti,recommend,\n",
            "Cluster 2 reviews (634 reviews): \n",
            "very good, It's a good value, and a good functional watch strap.  It's super wide though, and takes more space on the wrist than I'd like.\n",
            "\n",
            "Cluster 3 words:nice,look,price,realli,love,like,\n",
            "Cluster 3 reviews (551 reviews): \n",
            "Nice watch, on time delivery from seller., It works well with nice simple look.\n",
            "\n",
            "Cluster 4 words:love,gift,husband,beauti,wife,bought,\n",
            "Cluster 4 reviews (808 reviews): \n",
            "I love this watch it keeps time wonderfully., Love this watch, I just received it yesterday it looks really nice on my  wrist, my friends and family love it.\n",
            "\n"
          ]
        }
      ]
    },
    {
      "cell_type": "markdown",
      "metadata": {
        "id": "RWvNv13lD9B2"
      },
      "source": [
        "# Part 5: Topic Modeling - Latent Dirichlet Allocation"
      ]
    },
    {
      "cell_type": "code",
      "metadata": {
        "id": "eEXscDSAD_hm"
      },
      "source": [
        "# Use LDA for clustering\n",
        "from sklearn.decomposition import LatentDirichletAllocation\n",
        "lda = LatentDirichletAllocation(n_components=5)"
      ],
      "execution_count": 33,
      "outputs": []
    },
    {
      "cell_type": "code",
      "metadata": {
        "colab": {
          "base_uri": "https://localhost:8080/"
        },
        "id": "YW8y9TFDEGb3",
        "outputId": "641aa189-0728-48b4-9588-b271944adc4a"
      },
      "source": [
        "# document topic matrix for tfidf_matrix_lda\n",
        "lda_output = lda.fit_transform(tfidf_matrix)\n",
        "print(lda_output.shape)\n",
        "print(lda_output)"
      ],
      "execution_count": 34,
      "outputs": [
        {
          "output_type": "stream",
          "name": "stdout",
          "text": [
            "(10000, 5)\n",
            "[[0.57273061 0.05979591 0.05965026 0.24828969 0.05953353]\n",
            " [0.65722717 0.08419718 0.08424481 0.08945636 0.08487448]\n",
            " [0.10000135 0.10000121 0.10000082 0.59999563 0.10000099]\n",
            " ...\n",
            " [0.09766847 0.04631896 0.04475911 0.76389291 0.04736054]\n",
            " [0.04366976 0.0438115  0.82388524 0.04445674 0.04417676]\n",
            " [0.05666558 0.05941871 0.05982127 0.76115293 0.0629415 ]]\n"
          ]
        }
      ]
    },
    {
      "cell_type": "code",
      "metadata": {
        "colab": {
          "base_uri": "https://localhost:8080/"
        },
        "id": "GSd4M52DEM0m",
        "outputId": "d1b33bbc-cc88-43f2-e6f0-235f946ad4db"
      },
      "source": [
        "# topics and words matrix\n",
        "topic_word = lda.components_\n",
        "print(topic_word.shape)\n",
        "print(topic_word)"
      ],
      "execution_count": 35,
      "outputs": [
        {
          "output_type": "stream",
          "name": "stdout",
          "text": [
            "(5, 222)\n",
            "[[  0.20087776  59.59132546   1.9366278  ...   3.51156401   0.38610753\n",
            "    0.20188367]\n",
            " [  0.20132826   0.20049325   2.65783138 ...   0.20239222   0.20106425\n",
            "    0.20119412]\n",
            " [  0.20748848   0.78846628   0.2050834  ...   1.53414392  76.44024485\n",
            "    1.48364094]\n",
            " [ 30.00036313   1.11623363  41.65635907 ...  60.97577041  24.98144364\n",
            "  132.19337114]\n",
            " [ 10.74207465   0.20333462   7.36798034 ...   9.06870199  92.95986846\n",
            "    1.26172758]]\n"
          ]
        }
      ]
    },
    {
      "cell_type": "code",
      "metadata": {
        "colab": {
          "base_uri": "https://localhost:8080/",
          "height": 359
        },
        "id": "agz62_Z9ETn2",
        "outputId": "05c39c44-b859-40d8-f988-277dddd109d6"
      },
      "source": [
        "# column names\n",
        "topic_names = [\"Topic\" + str(i) for i in range(lda.n_components)]\n",
        "\n",
        "# index names\n",
        "doc_names = [\"Doc\" + str(i) for i in range(len(data))]\n",
        "\n",
        "df_document_topic = pd.DataFrame(np.round(lda_output, 2), columns=topic_names, index=doc_names)\n",
        "\n",
        "# get dominant topic for each document\n",
        "topic = np.argmax(df_document_topic.values, axis=1)\n",
        "df_document_topic['topic'] = topic\n",
        "\n",
        "df_document_topic.head(10)"
      ],
      "execution_count": 36,
      "outputs": [
        {
          "output_type": "execute_result",
          "data": {
            "text/html": [
              "<div>\n",
              "<style scoped>\n",
              "    .dataframe tbody tr th:only-of-type {\n",
              "        vertical-align: middle;\n",
              "    }\n",
              "\n",
              "    .dataframe tbody tr th {\n",
              "        vertical-align: top;\n",
              "    }\n",
              "\n",
              "    .dataframe thead th {\n",
              "        text-align: right;\n",
              "    }\n",
              "</style>\n",
              "<table border=\"1\" class=\"dataframe\">\n",
              "  <thead>\n",
              "    <tr style=\"text-align: right;\">\n",
              "      <th></th>\n",
              "      <th>Topic0</th>\n",
              "      <th>Topic1</th>\n",
              "      <th>Topic2</th>\n",
              "      <th>Topic3</th>\n",
              "      <th>Topic4</th>\n",
              "      <th>topic</th>\n",
              "    </tr>\n",
              "  </thead>\n",
              "  <tbody>\n",
              "    <tr>\n",
              "      <th>Doc0</th>\n",
              "      <td>0.57</td>\n",
              "      <td>0.06</td>\n",
              "      <td>0.06</td>\n",
              "      <td>0.25</td>\n",
              "      <td>0.06</td>\n",
              "      <td>0</td>\n",
              "    </tr>\n",
              "    <tr>\n",
              "      <th>Doc1</th>\n",
              "      <td>0.66</td>\n",
              "      <td>0.08</td>\n",
              "      <td>0.08</td>\n",
              "      <td>0.09</td>\n",
              "      <td>0.08</td>\n",
              "      <td>0</td>\n",
              "    </tr>\n",
              "    <tr>\n",
              "      <th>Doc2</th>\n",
              "      <td>0.10</td>\n",
              "      <td>0.10</td>\n",
              "      <td>0.10</td>\n",
              "      <td>0.60</td>\n",
              "      <td>0.10</td>\n",
              "      <td>3</td>\n",
              "    </tr>\n",
              "    <tr>\n",
              "      <th>Doc3</th>\n",
              "      <td>0.06</td>\n",
              "      <td>0.07</td>\n",
              "      <td>0.06</td>\n",
              "      <td>0.74</td>\n",
              "      <td>0.06</td>\n",
              "      <td>3</td>\n",
              "    </tr>\n",
              "    <tr>\n",
              "      <th>Doc4</th>\n",
              "      <td>0.05</td>\n",
              "      <td>0.04</td>\n",
              "      <td>0.04</td>\n",
              "      <td>0.56</td>\n",
              "      <td>0.31</td>\n",
              "      <td>3</td>\n",
              "    </tr>\n",
              "    <tr>\n",
              "      <th>Doc5</th>\n",
              "      <td>0.70</td>\n",
              "      <td>0.07</td>\n",
              "      <td>0.08</td>\n",
              "      <td>0.08</td>\n",
              "      <td>0.07</td>\n",
              "      <td>0</td>\n",
              "    </tr>\n",
              "    <tr>\n",
              "      <th>Doc6</th>\n",
              "      <td>0.41</td>\n",
              "      <td>0.39</td>\n",
              "      <td>0.06</td>\n",
              "      <td>0.06</td>\n",
              "      <td>0.06</td>\n",
              "      <td>0</td>\n",
              "    </tr>\n",
              "    <tr>\n",
              "      <th>Doc7</th>\n",
              "      <td>0.06</td>\n",
              "      <td>0.06</td>\n",
              "      <td>0.06</td>\n",
              "      <td>0.75</td>\n",
              "      <td>0.06</td>\n",
              "      <td>3</td>\n",
              "    </tr>\n",
              "    <tr>\n",
              "      <th>Doc8</th>\n",
              "      <td>0.05</td>\n",
              "      <td>0.05</td>\n",
              "      <td>0.57</td>\n",
              "      <td>0.05</td>\n",
              "      <td>0.29</td>\n",
              "      <td>2</td>\n",
              "    </tr>\n",
              "    <tr>\n",
              "      <th>Doc9</th>\n",
              "      <td>0.06</td>\n",
              "      <td>0.06</td>\n",
              "      <td>0.06</td>\n",
              "      <td>0.06</td>\n",
              "      <td>0.77</td>\n",
              "      <td>4</td>\n",
              "    </tr>\n",
              "  </tbody>\n",
              "</table>\n",
              "</div>"
            ],
            "text/plain": [
              "      Topic0  Topic1  Topic2  Topic3  Topic4  topic\n",
              "Doc0    0.57    0.06    0.06    0.25    0.06      0\n",
              "Doc1    0.66    0.08    0.08    0.09    0.08      0\n",
              "Doc2    0.10    0.10    0.10    0.60    0.10      3\n",
              "Doc3    0.06    0.07    0.06    0.74    0.06      3\n",
              "Doc4    0.05    0.04    0.04    0.56    0.31      3\n",
              "Doc5    0.70    0.07    0.08    0.08    0.07      0\n",
              "Doc6    0.41    0.39    0.06    0.06    0.06      0\n",
              "Doc7    0.06    0.06    0.06    0.75    0.06      3\n",
              "Doc8    0.05    0.05    0.57    0.05    0.29      2\n",
              "Doc9    0.06    0.06    0.06    0.06    0.77      4"
            ]
          },
          "metadata": {},
          "execution_count": 36
        }
      ]
    },
    {
      "cell_type": "code",
      "metadata": {
        "colab": {
          "base_uri": "https://localhost:8080/",
          "height": 204
        },
        "id": "zwFZnP-LEeLi",
        "outputId": "d5bef7c4-afec-4e04-80d6-3aa99856de23"
      },
      "source": [
        "df_document_topic['topic'].value_counts().to_frame()"
      ],
      "execution_count": 37,
      "outputs": [
        {
          "output_type": "execute_result",
          "data": {
            "text/html": [
              "<div>\n",
              "<style scoped>\n",
              "    .dataframe tbody tr th:only-of-type {\n",
              "        vertical-align: middle;\n",
              "    }\n",
              "\n",
              "    .dataframe tbody tr th {\n",
              "        vertical-align: top;\n",
              "    }\n",
              "\n",
              "    .dataframe thead th {\n",
              "        text-align: right;\n",
              "    }\n",
              "</style>\n",
              "<table border=\"1\" class=\"dataframe\">\n",
              "  <thead>\n",
              "    <tr style=\"text-align: right;\">\n",
              "      <th></th>\n",
              "      <th>topic</th>\n",
              "    </tr>\n",
              "  </thead>\n",
              "  <tbody>\n",
              "    <tr>\n",
              "      <th>3</th>\n",
              "      <td>3342</td>\n",
              "    </tr>\n",
              "    <tr>\n",
              "      <th>2</th>\n",
              "      <td>1891</td>\n",
              "    </tr>\n",
              "    <tr>\n",
              "      <th>1</th>\n",
              "      <td>1657</td>\n",
              "    </tr>\n",
              "    <tr>\n",
              "      <th>4</th>\n",
              "      <td>1586</td>\n",
              "    </tr>\n",
              "    <tr>\n",
              "      <th>0</th>\n",
              "      <td>1524</td>\n",
              "    </tr>\n",
              "  </tbody>\n",
              "</table>\n",
              "</div>"
            ],
            "text/plain": [
              "   topic\n",
              "3   3342\n",
              "2   1891\n",
              "1   1657\n",
              "4   1586\n",
              "0   1524"
            ]
          },
          "metadata": {},
          "execution_count": 37
        }
      ]
    },
    {
      "cell_type": "code",
      "metadata": {
        "colab": {
          "base_uri": "https://localhost:8080/",
          "height": 423
        },
        "id": "NUiPvDL9EnqV",
        "outputId": "8e4974ef-b4b7-4512-d37b-c90c8f1c0b86"
      },
      "source": [
        "# topic word matrix\n",
        "print(lda.components_)\n",
        "# topic-word matrix\n",
        "df_topic_words = pd.DataFrame(lda.components_)\n",
        "\n",
        "# column and index\n",
        "df_topic_words.columns = tfidf_model.get_feature_names()\n",
        "df_topic_words.index = topic_names\n",
        "\n",
        "df_topic_words.head()"
      ],
      "execution_count": 38,
      "outputs": [
        {
          "output_type": "stream",
          "name": "stdout",
          "text": [
            "[[  0.20087776  59.59132546   1.9366278  ...   3.51156401   0.38610753\n",
            "    0.20188367]\n",
            " [  0.20132826   0.20049325   2.65783138 ...   0.20239222   0.20106425\n",
            "    0.20119412]\n",
            " [  0.20748848   0.78846628   0.2050834  ...   1.53414392  76.44024485\n",
            "    1.48364094]\n",
            " [ 30.00036313   1.11623363  41.65635907 ...  60.97577041  24.98144364\n",
            "  132.19337114]\n",
            " [ 10.74207465   0.20333462   7.36798034 ...   9.06870199  92.95986846\n",
            "    1.26172758]]\n"
          ]
        },
        {
          "output_type": "execute_result",
          "data": {
            "text/html": [
              "<div>\n",
              "<style scoped>\n",
              "    .dataframe tbody tr th:only-of-type {\n",
              "        vertical-align: middle;\n",
              "    }\n",
              "\n",
              "    .dataframe tbody tr th {\n",
              "        vertical-align: top;\n",
              "    }\n",
              "\n",
              "    .dataframe thead th {\n",
              "        text-align: right;\n",
              "    }\n",
              "</style>\n",
              "<table border=\"1\" class=\"dataframe\">\n",
              "  <thead>\n",
              "    <tr style=\"text-align: right;\">\n",
              "      <th></th>\n",
              "      <th>abl</th>\n",
              "      <th>absolut</th>\n",
              "      <th>accur</th>\n",
              "      <th>actual</th>\n",
              "      <th>adjust</th>\n",
              "      <th>alarm</th>\n",
              "      <th>alreadi</th>\n",
              "      <th>alway</th>\n",
              "      <th>amaz</th>\n",
              "      <th>amazon</th>\n",
              "      <th>anoth</th>\n",
              "      <th>appear</th>\n",
              "      <th>arriv</th>\n",
              "      <th>attract</th>\n",
              "      <th>automat</th>\n",
              "      <th>awesom</th>\n",
              "      <th>bad</th>\n",
              "      <th>band</th>\n",
              "      <th>batteri</th>\n",
              "      <th>beauti</th>\n",
              "      <th>best</th>\n",
              "      <th>better</th>\n",
              "      <th>big</th>\n",
              "      <th>bit</th>\n",
              "      <th>black</th>\n",
              "      <th>blue</th>\n",
              "      <th>bought</th>\n",
              "      <th>box</th>\n",
              "      <th>bracelet</th>\n",
              "      <th>brand</th>\n",
              "      <th>broke</th>\n",
              "      <th>button</th>\n",
              "      <th>buy</th>\n",
              "      <th>ca</th>\n",
              "      <th>came</th>\n",
              "      <th>case</th>\n",
              "      <th>casio</th>\n",
              "      <th>chang</th>\n",
              "      <th>cheap</th>\n",
              "      <th>clasp</th>\n",
              "      <th>...</th>\n",
              "      <th>small</th>\n",
              "      <th>smaller</th>\n",
              "      <th>solid</th>\n",
              "      <th>someth</th>\n",
              "      <th>son</th>\n",
              "      <th>star</th>\n",
              "      <th>start</th>\n",
              "      <th>stop</th>\n",
              "      <th>strap</th>\n",
              "      <th>style</th>\n",
              "      <th>stylish</th>\n",
              "      <th>super</th>\n",
              "      <th>sure</th>\n",
              "      <th>tell</th>\n",
              "      <th>thank</th>\n",
              "      <th>thing</th>\n",
              "      <th>think</th>\n",
              "      <th>thought</th>\n",
              "      <th>time</th>\n",
              "      <th>timex</th>\n",
              "      <th>took</th>\n",
              "      <th>tri</th>\n",
              "      <th>turn</th>\n",
              "      <th>use</th>\n",
              "      <th>valu</th>\n",
              "      <th>want</th>\n",
              "      <th>watch</th>\n",
              "      <th>water</th>\n",
              "      <th>way</th>\n",
              "      <th>wear</th>\n",
              "      <th>week</th>\n",
              "      <th>weight</th>\n",
              "      <th>white</th>\n",
              "      <th>wife</th>\n",
              "      <th>wish</th>\n",
              "      <th>work</th>\n",
              "      <th>worn</th>\n",
              "      <th>worth</th>\n",
              "      <th>wrist</th>\n",
              "      <th>year</th>\n",
              "    </tr>\n",
              "  </thead>\n",
              "  <tbody>\n",
              "    <tr>\n",
              "      <th>Topic0</th>\n",
              "      <td>0.200878</td>\n",
              "      <td>59.591325</td>\n",
              "      <td>1.936628</td>\n",
              "      <td>0.201743</td>\n",
              "      <td>0.201268</td>\n",
              "      <td>0.201117</td>\n",
              "      <td>0.200657</td>\n",
              "      <td>0.488900</td>\n",
              "      <td>85.766967</td>\n",
              "      <td>0.204054</td>\n",
              "      <td>0.203105</td>\n",
              "      <td>0.203121</td>\n",
              "      <td>0.202020</td>\n",
              "      <td>12.097648</td>\n",
              "      <td>0.201822</td>\n",
              "      <td>0.201302</td>\n",
              "      <td>0.200841</td>\n",
              "      <td>4.168967</td>\n",
              "      <td>0.200685</td>\n",
              "      <td>82.522274</td>\n",
              "      <td>0.201451</td>\n",
              "      <td>14.102612</td>\n",
              "      <td>1.510254</td>\n",
              "      <td>0.208161</td>\n",
              "      <td>0.207617</td>\n",
              "      <td>0.201278</td>\n",
              "      <td>85.405670</td>\n",
              "      <td>8.105554</td>\n",
              "      <td>0.201224</td>\n",
              "      <td>0.201324</td>\n",
              "      <td>0.200580</td>\n",
              "      <td>0.200864</td>\n",
              "      <td>14.890831</td>\n",
              "      <td>0.203022</td>\n",
              "      <td>21.238269</td>\n",
              "      <td>0.202138</td>\n",
              "      <td>0.201755</td>\n",
              "      <td>0.201083</td>\n",
              "      <td>4.080703</td>\n",
              "      <td>0.219940</td>\n",
              "      <td>...</td>\n",
              "      <td>0.206465</td>\n",
              "      <td>0.200623</td>\n",
              "      <td>0.229325</td>\n",
              "      <td>0.556536</td>\n",
              "      <td>49.975717</td>\n",
              "      <td>0.201833</td>\n",
              "      <td>0.224020</td>\n",
              "      <td>0.200490</td>\n",
              "      <td>0.347485</td>\n",
              "      <td>29.030770</td>\n",
              "      <td>14.845499</td>\n",
              "      <td>18.118730</td>\n",
              "      <td>0.205575</td>\n",
              "      <td>0.202667</td>\n",
              "      <td>0.201527</td>\n",
              "      <td>0.943381</td>\n",
              "      <td>0.205967</td>\n",
              "      <td>0.203424</td>\n",
              "      <td>22.952947</td>\n",
              "      <td>0.200900</td>\n",
              "      <td>0.203145</td>\n",
              "      <td>0.200670</td>\n",
              "      <td>0.200267</td>\n",
              "      <td>2.642853</td>\n",
              "      <td>0.200889</td>\n",
              "      <td>2.066276</td>\n",
              "      <td>28.529940</td>\n",
              "      <td>0.200924</td>\n",
              "      <td>1.602046</td>\n",
              "      <td>49.258004</td>\n",
              "      <td>0.201264</td>\n",
              "      <td>7.731632</td>\n",
              "      <td>0.200625</td>\n",
              "      <td>69.071691</td>\n",
              "      <td>0.200957</td>\n",
              "      <td>5.194369</td>\n",
              "      <td>0.201221</td>\n",
              "      <td>3.511564</td>\n",
              "      <td>0.386108</td>\n",
              "      <td>0.201884</td>\n",
              "    </tr>\n",
              "    <tr>\n",
              "      <th>Topic1</th>\n",
              "      <td>0.201328</td>\n",
              "      <td>0.200493</td>\n",
              "      <td>2.657831</td>\n",
              "      <td>0.200881</td>\n",
              "      <td>0.200662</td>\n",
              "      <td>0.200103</td>\n",
              "      <td>0.201109</td>\n",
              "      <td>0.201631</td>\n",
              "      <td>0.201276</td>\n",
              "      <td>0.202630</td>\n",
              "      <td>0.201700</td>\n",
              "      <td>0.201357</td>\n",
              "      <td>8.294222</td>\n",
              "      <td>0.201622</td>\n",
              "      <td>0.201505</td>\n",
              "      <td>0.201105</td>\n",
              "      <td>20.311576</td>\n",
              "      <td>0.667602</td>\n",
              "      <td>0.200587</td>\n",
              "      <td>134.516933</td>\n",
              "      <td>0.864239</td>\n",
              "      <td>13.391652</td>\n",
              "      <td>0.201331</td>\n",
              "      <td>0.200957</td>\n",
              "      <td>0.200802</td>\n",
              "      <td>0.200743</td>\n",
              "      <td>0.201296</td>\n",
              "      <td>0.203022</td>\n",
              "      <td>0.200917</td>\n",
              "      <td>0.202413</td>\n",
              "      <td>0.200432</td>\n",
              "      <td>0.200468</td>\n",
              "      <td>17.229002</td>\n",
              "      <td>0.201682</td>\n",
              "      <td>0.202381</td>\n",
              "      <td>0.201099</td>\n",
              "      <td>0.200958</td>\n",
              "      <td>0.200671</td>\n",
              "      <td>0.699724</td>\n",
              "      <td>0.200536</td>\n",
              "      <td>...</td>\n",
              "      <td>0.200944</td>\n",
              "      <td>0.200578</td>\n",
              "      <td>0.260597</td>\n",
              "      <td>0.200812</td>\n",
              "      <td>0.201014</td>\n",
              "      <td>0.201171</td>\n",
              "      <td>0.200099</td>\n",
              "      <td>0.200370</td>\n",
              "      <td>0.201039</td>\n",
              "      <td>0.201182</td>\n",
              "      <td>10.759943</td>\n",
              "      <td>0.201338</td>\n",
              "      <td>0.201347</td>\n",
              "      <td>0.200662</td>\n",
              "      <td>0.201781</td>\n",
              "      <td>0.201037</td>\n",
              "      <td>0.200874</td>\n",
              "      <td>0.200975</td>\n",
              "      <td>22.582528</td>\n",
              "      <td>0.200913</td>\n",
              "      <td>0.200390</td>\n",
              "      <td>0.200599</td>\n",
              "      <td>0.200447</td>\n",
              "      <td>0.202332</td>\n",
              "      <td>66.267209</td>\n",
              "      <td>48.847395</td>\n",
              "      <td>2.098924</td>\n",
              "      <td>0.200814</td>\n",
              "      <td>0.200868</td>\n",
              "      <td>0.202648</td>\n",
              "      <td>0.201316</td>\n",
              "      <td>0.202122</td>\n",
              "      <td>0.200792</td>\n",
              "      <td>0.200434</td>\n",
              "      <td>0.200928</td>\n",
              "      <td>51.824699</td>\n",
              "      <td>0.260092</td>\n",
              "      <td>0.202392</td>\n",
              "      <td>0.201064</td>\n",
              "      <td>0.201194</td>\n",
              "    </tr>\n",
              "    <tr>\n",
              "      <th>Topic2</th>\n",
              "      <td>0.207488</td>\n",
              "      <td>0.788466</td>\n",
              "      <td>0.205083</td>\n",
              "      <td>25.153560</td>\n",
              "      <td>6.062117</td>\n",
              "      <td>0.273358</td>\n",
              "      <td>3.236036</td>\n",
              "      <td>0.744456</td>\n",
              "      <td>0.221211</td>\n",
              "      <td>13.979322</td>\n",
              "      <td>7.966958</td>\n",
              "      <td>29.081909</td>\n",
              "      <td>36.803362</td>\n",
              "      <td>11.495409</td>\n",
              "      <td>2.038175</td>\n",
              "      <td>133.780415</td>\n",
              "      <td>6.550532</td>\n",
              "      <td>84.605027</td>\n",
              "      <td>0.200844</td>\n",
              "      <td>21.441516</td>\n",
              "      <td>0.203386</td>\n",
              "      <td>38.650062</td>\n",
              "      <td>111.469846</td>\n",
              "      <td>50.598319</td>\n",
              "      <td>46.984616</td>\n",
              "      <td>41.950440</td>\n",
              "      <td>11.248272</td>\n",
              "      <td>4.231587</td>\n",
              "      <td>2.288498</td>\n",
              "      <td>2.359648</td>\n",
              "      <td>0.201053</td>\n",
              "      <td>6.635846</td>\n",
              "      <td>22.896998</td>\n",
              "      <td>6.606857</td>\n",
              "      <td>12.898045</td>\n",
              "      <td>11.168004</td>\n",
              "      <td>0.201734</td>\n",
              "      <td>4.513908</td>\n",
              "      <td>30.593517</td>\n",
              "      <td>3.760657</td>\n",
              "      <td>...</td>\n",
              "      <td>52.828373</td>\n",
              "      <td>53.216391</td>\n",
              "      <td>2.457829</td>\n",
              "      <td>8.942675</td>\n",
              "      <td>0.262342</td>\n",
              "      <td>11.975330</td>\n",
              "      <td>0.202105</td>\n",
              "      <td>0.200824</td>\n",
              "      <td>19.202630</td>\n",
              "      <td>17.758829</td>\n",
              "      <td>29.891313</td>\n",
              "      <td>20.667419</td>\n",
              "      <td>10.421132</td>\n",
              "      <td>9.669777</td>\n",
              "      <td>126.350020</td>\n",
              "      <td>15.116426</td>\n",
              "      <td>30.831520</td>\n",
              "      <td>36.238141</td>\n",
              "      <td>33.266427</td>\n",
              "      <td>1.368772</td>\n",
              "      <td>1.406120</td>\n",
              "      <td>0.439437</td>\n",
              "      <td>0.242250</td>\n",
              "      <td>14.122318</td>\n",
              "      <td>0.203990</td>\n",
              "      <td>19.824821</td>\n",
              "      <td>39.363751</td>\n",
              "      <td>0.201443</td>\n",
              "      <td>45.680974</td>\n",
              "      <td>35.380322</td>\n",
              "      <td>0.202417</td>\n",
              "      <td>23.778733</td>\n",
              "      <td>34.354330</td>\n",
              "      <td>0.201651</td>\n",
              "      <td>31.203088</td>\n",
              "      <td>23.684634</td>\n",
              "      <td>0.205989</td>\n",
              "      <td>1.534144</td>\n",
              "      <td>76.440245</td>\n",
              "      <td>1.483641</td>\n",
              "    </tr>\n",
              "    <tr>\n",
              "      <th>Topic3</th>\n",
              "      <td>30.000363</td>\n",
              "      <td>1.116234</td>\n",
              "      <td>41.656359</td>\n",
              "      <td>18.430094</td>\n",
              "      <td>14.929224</td>\n",
              "      <td>41.349580</td>\n",
              "      <td>37.710566</td>\n",
              "      <td>21.857405</td>\n",
              "      <td>1.042631</td>\n",
              "      <td>54.249658</td>\n",
              "      <td>62.256296</td>\n",
              "      <td>8.346732</td>\n",
              "      <td>44.354789</td>\n",
              "      <td>15.099837</td>\n",
              "      <td>24.435886</td>\n",
              "      <td>0.203167</td>\n",
              "      <td>33.276436</td>\n",
              "      <td>94.349512</td>\n",
              "      <td>137.593467</td>\n",
              "      <td>19.330751</td>\n",
              "      <td>78.396403</td>\n",
              "      <td>31.077941</td>\n",
              "      <td>9.479896</td>\n",
              "      <td>13.326432</td>\n",
              "      <td>20.509009</td>\n",
              "      <td>5.935901</td>\n",
              "      <td>74.265880</td>\n",
              "      <td>17.710141</td>\n",
              "      <td>5.616113</td>\n",
              "      <td>36.290795</td>\n",
              "      <td>89.054154</td>\n",
              "      <td>40.213993</td>\n",
              "      <td>91.839658</td>\n",
              "      <td>55.490058</td>\n",
              "      <td>45.800540</td>\n",
              "      <td>18.705469</td>\n",
              "      <td>38.528197</td>\n",
              "      <td>52.408982</td>\n",
              "      <td>89.037066</td>\n",
              "      <td>27.266850</td>\n",
              "      <td>...</td>\n",
              "      <td>13.127933</td>\n",
              "      <td>0.253979</td>\n",
              "      <td>1.895693</td>\n",
              "      <td>35.625432</td>\n",
              "      <td>17.149654</td>\n",
              "      <td>54.860027</td>\n",
              "      <td>33.957938</td>\n",
              "      <td>79.803121</td>\n",
              "      <td>34.439232</td>\n",
              "      <td>15.582796</td>\n",
              "      <td>5.119351</td>\n",
              "      <td>3.305556</td>\n",
              "      <td>32.122762</td>\n",
              "      <td>46.756673</td>\n",
              "      <td>0.444078</td>\n",
              "      <td>55.326842</td>\n",
              "      <td>38.210863</td>\n",
              "      <td>14.076005</td>\n",
              "      <td>237.767468</td>\n",
              "      <td>31.470798</td>\n",
              "      <td>29.302122</td>\n",
              "      <td>44.994599</td>\n",
              "      <td>32.512514</td>\n",
              "      <td>146.153704</td>\n",
              "      <td>6.249230</td>\n",
              "      <td>50.202507</td>\n",
              "      <td>101.264119</td>\n",
              "      <td>77.787800</td>\n",
              "      <td>26.299515</td>\n",
              "      <td>122.826555</td>\n",
              "      <td>98.332884</td>\n",
              "      <td>4.680196</td>\n",
              "      <td>4.105148</td>\n",
              "      <td>0.214507</td>\n",
              "      <td>17.189939</td>\n",
              "      <td>236.043131</td>\n",
              "      <td>34.264231</td>\n",
              "      <td>60.975770</td>\n",
              "      <td>24.981444</td>\n",
              "      <td>132.193371</td>\n",
              "    </tr>\n",
              "    <tr>\n",
              "      <th>Topic4</th>\n",
              "      <td>10.742075</td>\n",
              "      <td>0.203335</td>\n",
              "      <td>7.367980</td>\n",
              "      <td>4.258362</td>\n",
              "      <td>45.663726</td>\n",
              "      <td>0.266143</td>\n",
              "      <td>0.201897</td>\n",
              "      <td>29.487636</td>\n",
              "      <td>0.200949</td>\n",
              "      <td>0.204720</td>\n",
              "      <td>2.026896</td>\n",
              "      <td>1.150010</td>\n",
              "      <td>0.207778</td>\n",
              "      <td>4.806484</td>\n",
              "      <td>5.806633</td>\n",
              "      <td>0.201509</td>\n",
              "      <td>0.475138</td>\n",
              "      <td>153.049137</td>\n",
              "      <td>0.201037</td>\n",
              "      <td>13.911102</td>\n",
              "      <td>2.799401</td>\n",
              "      <td>6.443661</td>\n",
              "      <td>21.891158</td>\n",
              "      <td>22.254219</td>\n",
              "      <td>5.046696</td>\n",
              "      <td>4.964668</td>\n",
              "      <td>2.744457</td>\n",
              "      <td>30.574201</td>\n",
              "      <td>35.482962</td>\n",
              "      <td>5.907090</td>\n",
              "      <td>5.655343</td>\n",
              "      <td>4.564170</td>\n",
              "      <td>13.589445</td>\n",
              "      <td>10.587528</td>\n",
              "      <td>7.322974</td>\n",
              "      <td>28.273900</td>\n",
              "      <td>16.612147</td>\n",
              "      <td>3.519322</td>\n",
              "      <td>15.983169</td>\n",
              "      <td>11.391451</td>\n",
              "      <td>...</td>\n",
              "      <td>90.632267</td>\n",
              "      <td>1.609502</td>\n",
              "      <td>44.099141</td>\n",
              "      <td>3.200826</td>\n",
              "      <td>0.201037</td>\n",
              "      <td>0.232162</td>\n",
              "      <td>0.914859</td>\n",
              "      <td>0.200539</td>\n",
              "      <td>85.066058</td>\n",
              "      <td>0.203436</td>\n",
              "      <td>0.203823</td>\n",
              "      <td>0.206588</td>\n",
              "      <td>7.299369</td>\n",
              "      <td>0.255315</td>\n",
              "      <td>0.200990</td>\n",
              "      <td>4.250447</td>\n",
              "      <td>5.544834</td>\n",
              "      <td>0.236671</td>\n",
              "      <td>41.050800</td>\n",
              "      <td>24.974299</td>\n",
              "      <td>6.616838</td>\n",
              "      <td>4.293974</td>\n",
              "      <td>5.661119</td>\n",
              "      <td>42.006650</td>\n",
              "      <td>0.201277</td>\n",
              "      <td>6.554720</td>\n",
              "      <td>24.098013</td>\n",
              "      <td>0.201077</td>\n",
              "      <td>2.932543</td>\n",
              "      <td>16.433783</td>\n",
              "      <td>5.212470</td>\n",
              "      <td>14.807524</td>\n",
              "      <td>0.202126</td>\n",
              "      <td>0.201561</td>\n",
              "      <td>1.418541</td>\n",
              "      <td>38.331650</td>\n",
              "      <td>4.860216</td>\n",
              "      <td>9.068702</td>\n",
              "      <td>92.959868</td>\n",
              "      <td>1.261728</td>\n",
              "    </tr>\n",
              "  </tbody>\n",
              "</table>\n",
              "<p>5 rows × 222 columns</p>\n",
              "</div>"
            ],
            "text/plain": [
              "              abl    absolut      accur  ...      worth      wrist        year\n",
              "Topic0   0.200878  59.591325   1.936628  ...   3.511564   0.386108    0.201884\n",
              "Topic1   0.201328   0.200493   2.657831  ...   0.202392   0.201064    0.201194\n",
              "Topic2   0.207488   0.788466   0.205083  ...   1.534144  76.440245    1.483641\n",
              "Topic3  30.000363   1.116234  41.656359  ...  60.975770  24.981444  132.193371\n",
              "Topic4  10.742075   0.203335   7.367980  ...   9.068702  92.959868    1.261728\n",
              "\n",
              "[5 rows x 222 columns]"
            ]
          },
          "metadata": {},
          "execution_count": 38
        }
      ]
    },
    {
      "cell_type": "code",
      "metadata": {
        "colab": {
          "base_uri": "https://localhost:8080/",
          "height": 204
        },
        "id": "U8bagDpOEnh4",
        "outputId": "195dee4b-3fc0-41e4-bc42-16936116a3a5"
      },
      "source": [
        "# print top n keywords for each topic\n",
        "def print_topic_words(tfidf_model, lda_model, n_words):\n",
        "    words = np.array(tfidf_model.get_feature_names())\n",
        "    topic_words = []\n",
        "    # for each topic, we have words weight\n",
        "    for topic_words_weights in lda_model.components_:\n",
        "        top_words = topic_words_weights.argsort()[::-1][:n_words]\n",
        "        topic_words.append(words.take(top_words))\n",
        "    return topic_words\n",
        "\n",
        "topic_keywords = print_topic_words(tfidf_model=tfidf_model, lda_model=lda, n_words=15)        \n",
        "\n",
        "df_topic_words = pd.DataFrame(topic_keywords)\n",
        "df_topic_words.columns = ['Word '+str(i) for i in range(df_topic_words.shape[1])]\n",
        "df_topic_words.index = ['Topic '+str(i) for i in range(df_topic_words.shape[0])]\n",
        "df_topic_words"
      ],
      "execution_count": 39,
      "outputs": [
        {
          "output_type": "execute_result",
          "data": {
            "text/html": [
              "<div>\n",
              "<style scoped>\n",
              "    .dataframe tbody tr th:only-of-type {\n",
              "        vertical-align: middle;\n",
              "    }\n",
              "\n",
              "    .dataframe tbody tr th {\n",
              "        vertical-align: top;\n",
              "    }\n",
              "\n",
              "    .dataframe thead th {\n",
              "        text-align: right;\n",
              "    }\n",
              "</style>\n",
              "<table border=\"1\" class=\"dataframe\">\n",
              "  <thead>\n",
              "    <tr style=\"text-align: right;\">\n",
              "      <th></th>\n",
              "      <th>Word 0</th>\n",
              "      <th>Word 1</th>\n",
              "      <th>Word 2</th>\n",
              "      <th>Word 3</th>\n",
              "      <th>Word 4</th>\n",
              "      <th>Word 5</th>\n",
              "      <th>Word 6</th>\n",
              "      <th>Word 7</th>\n",
              "      <th>Word 8</th>\n",
              "      <th>Word 9</th>\n",
              "      <th>Word 10</th>\n",
              "      <th>Word 11</th>\n",
              "      <th>Word 12</th>\n",
              "      <th>Word 13</th>\n",
              "      <th>Word 14</th>\n",
              "    </tr>\n",
              "  </thead>\n",
              "  <tbody>\n",
              "    <tr>\n",
              "      <th>Topic 0</th>\n",
              "      <td>love</td>\n",
              "      <td>gift</td>\n",
              "      <td>husband</td>\n",
              "      <td>amaz</td>\n",
              "      <td>bought</td>\n",
              "      <td>beauti</td>\n",
              "      <td>wife</td>\n",
              "      <td>look</td>\n",
              "      <td>absolut</td>\n",
              "      <td>classi</td>\n",
              "      <td>great</td>\n",
              "      <td>son</td>\n",
              "      <td>wear</td>\n",
              "      <td>daughter</td>\n",
              "      <td>got</td>\n",
              "    </tr>\n",
              "    <tr>\n",
              "      <th>Topic 1</th>\n",
              "      <td>good</td>\n",
              "      <td>great</td>\n",
              "      <td>excel</td>\n",
              "      <td>product</td>\n",
              "      <td>price</td>\n",
              "      <td>beauti</td>\n",
              "      <td>look</td>\n",
              "      <td>qualiti</td>\n",
              "      <td>expect</td>\n",
              "      <td>exact</td>\n",
              "      <td>recommend</td>\n",
              "      <td>valu</td>\n",
              "      <td>fast</td>\n",
              "      <td>work</td>\n",
              "      <td>eleg</td>\n",
              "    </tr>\n",
              "    <tr>\n",
              "      <th>Topic 2</th>\n",
              "      <td>like</td>\n",
              "      <td>look</td>\n",
              "      <td>awesom</td>\n",
              "      <td>thank</td>\n",
              "      <td>big</td>\n",
              "      <td>color</td>\n",
              "      <td>face</td>\n",
              "      <td>pictur</td>\n",
              "      <td>band</td>\n",
              "      <td>wrist</td>\n",
              "      <td>littl</td>\n",
              "      <td>cute</td>\n",
              "      <td>great</td>\n",
              "      <td>larg</td>\n",
              "      <td>realli</td>\n",
              "    </tr>\n",
              "    <tr>\n",
              "      <th>Topic 3</th>\n",
              "      <td>time</td>\n",
              "      <td>work</td>\n",
              "      <td>day</td>\n",
              "      <td>use</td>\n",
              "      <td>batteri</td>\n",
              "      <td>year</td>\n",
              "      <td>wear</td>\n",
              "      <td>look</td>\n",
              "      <td>like</td>\n",
              "      <td>watch</td>\n",
              "      <td>week</td>\n",
              "      <td>month</td>\n",
              "      <td>cool</td>\n",
              "      <td>set</td>\n",
              "      <td>band</td>\n",
              "    </tr>\n",
              "    <tr>\n",
              "      <th>Topic 4</th>\n",
              "      <td>nice</td>\n",
              "      <td>perfect</td>\n",
              "      <td>band</td>\n",
              "      <td>fit</td>\n",
              "      <td>look</td>\n",
              "      <td>wrist</td>\n",
              "      <td>small</td>\n",
              "      <td>strap</td>\n",
              "      <td>link</td>\n",
              "      <td>size</td>\n",
              "      <td>easi</td>\n",
              "      <td>pin</td>\n",
              "      <td>remov</td>\n",
              "      <td>like</td>\n",
              "      <td>leather</td>\n",
              "    </tr>\n",
              "  </tbody>\n",
              "</table>\n",
              "</div>"
            ],
            "text/plain": [
              "        Word 0   Word 1   Word 2   Word 3  ... Word 11 Word 12   Word 13  Word 14\n",
              "Topic 0   love     gift  husband     amaz  ...     son    wear  daughter      got\n",
              "Topic 1   good    great    excel  product  ...    valu    fast      work     eleg\n",
              "Topic 2   like     look   awesom    thank  ...    cute   great      larg   realli\n",
              "Topic 3   time     work      day      use  ...   month    cool       set     band\n",
              "Topic 4   nice  perfect     band      fit  ...     pin   remov      like  leather\n",
              "\n",
              "[5 rows x 15 columns]"
            ]
          },
          "metadata": {},
          "execution_count": 39
        }
      ]
    }
  ]
}